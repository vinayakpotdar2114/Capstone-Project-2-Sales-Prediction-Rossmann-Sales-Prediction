{
  "nbformat": 4,
  "nbformat_minor": 0,
  "metadata": {
    "colab": {
      "name": "Sales Prediction: Rossmann Sales Prediction- Capstone-2.ipynb",
      "provenance": [],
      "collapsed_sections": [],
      "mount_file_id": "1_2AqrTvpZfAjZc146eVbEw0xBfL9x3tK",
      "authorship_tag": "ABX9TyOrpsFHXLy8mC0LUpVy/f0Y",
      "include_colab_link": true
    },
    "kernelspec": {
      "name": "python3",
      "display_name": "Python 3"
    },
    "language_info": {
      "name": "python"
    }
  },
  "cells": [
    {
      "cell_type": "markdown",
      "metadata": {
        "id": "view-in-github",
        "colab_type": "text"
      },
      "source": [
        "<a href=\"https://colab.research.google.com/github/vinayakpotdar2114/Capstone-Project-2-Sales-Prediction-Rossmann-Sales-Prediction/blob/main/Sales_Prediction_Rossmann_Sales_Prediction_Capstone_2.ipynb\" target=\"_parent\"><img src=\"https://colab.research.google.com/assets/colab-badge.svg\" alt=\"Open In Colab\"/></a>"
      ]
    },
    {
      "cell_type": "markdown",
      "source": [
        "# **Project Title : Sales Prediction : Predicting sales of a major store chain Rossmann**\n",
        "# **Problem Description**\n",
        "Rossmann operates over 3,000 drug stores in 7 European countries. Currently, Rossmann store managers are tasked with predicting their daily sales for up to six weeks in advance. Store sales are influenced by many factors, including promotions, competition, school and state holidays, seasonality, and locality. With thousands of individual managers predicting sales based on their unique circumstances, the accuracy of results can be quite varied.\n",
        "You are provided with historical sales data for 1,115 Rossmann stores. The task is to forecast the \"Sales\" column for the test set. Note that some stores in the dataset were temporarily closed for refurbishment.\n",
        "\n",
        "\n",
        "# **Data Description**\n",
        "\n",
        "\n",
        "**Rossmann Stores Data.csv** - historical data including Sales\n",
        "\n",
        "**store.csv** - supplemental information about the stores\n",
        "\n",
        "# **Data fields**\n",
        "\n",
        "***Most of the fields are self-explanatory. The following are descriptions for those that aren't.***\n",
        "\n",
        "Id - an Id that represents a (Store, Date) tuple within the test set\n",
        "\n",
        "Store - a unique Id for each store\n",
        "\n",
        "Sales - the turnover for any given day (this is what you are predicting)\n",
        "\n",
        "Customers - the number of customers on a given day\n",
        "\n",
        "Open - an indicator for whether the store was open: 0 = closed, 1 = open\n",
        "\n",
        "StateHoliday - indicates a state holiday. Normally all stores, with few exceptions, are closed on state holidays. Note that all schools are closed on public holidays and weekends. a = public holiday, b = Easter holiday, c = Christmas, 0 = None\n",
        "\n",
        "SchoolHoliday - indicates if the (Store, Date) was affected by the closure of public schools\n",
        "\n",
        "StoreType - differentiates between 4 different store models: a, b, c, d\n",
        "\n",
        "Assortment - describes an assortment level: a = basic, b = extra, c = extended\n",
        "\n",
        "CompetitionDistance - distance in meters to the nearest competitor store\n",
        "\n",
        "CompetitionOpenSince[Month/Year] - gives the approximate year and month of the time the nearest competitor was opened\n",
        "\n",
        "Promo - indicates whether a store is running a promo on that day\n",
        "\n",
        "Promo2 - Promo2 is a continuing and consecutive promotion for some stores: 0 = store is not participating, 1 = store is participating\n",
        "\n",
        "Promo2Since[Year/Week] - describes the year and calendar week when the store started participating in Promo2\n",
        "\n",
        "PromoInterval - describes the consecutive intervals Promo2 is started, naming the months the promotion is started anew. E.g. \"Feb,May,Aug,Nov\" means each round starts in February, May, August, November of any given year for that store\n",
        "\n",
        "\n"
      ],
      "metadata": {
        "id": "OZVU5xh-uO8Q"
      }
    },
    {
      "cell_type": "code",
      "source": [
        "# Importing required libraries\n",
        "import numpy as np\n",
        "import pandas as pd, datetime\n",
        "from numpy import math\n",
        "import matplotlib\n",
        "import matplotlib.pyplot as plt\n",
        "import seaborn as sns\n",
        "\n",
        "from time import time\n",
        "from math import sqrt\n",
        "\n",
        "from sklearn.preprocessing import MinMaxScaler\n",
        "from sklearn import model_selection\n",
        "from sklearn.model_selection import train_test_split\n",
        "from sklearn.linear_model import LinearRegression\n",
        "from sklearn.linear_model import Lasso\n",
        "from sklearn.linear_model import Ridge\n",
        "from sklearn.tree import DecisionTreeRegressor\n",
        "\n",
        "from sklearn.metrics import mean_squared_error\n",
        "from sklearn.model_selection import GridSearchCV\n",
        "\n",
        "import warnings\n",
        "warnings.filterwarnings('ignore')\n",
        "\n",
        "%matplotlib inline"
      ],
      "metadata": {
        "id": "GNpeJpU5vtTK"
      },
      "execution_count": 1,
      "outputs": []
    },
    {
      "cell_type": "code",
      "source": [
        "# We shall be able to see all the columns in the further operations.\n",
        "pd.set_option(\"display.max_columns\",None)"
      ],
      "metadata": {
        "id": "xMGFEte87O3K"
      },
      "execution_count": 2,
      "outputs": []
    },
    {
      "cell_type": "markdown",
      "source": [
        "# Data Prep and Overview"
      ],
      "metadata": {
        "id": "b5E6DA24fgLB"
      }
    },
    {
      "cell_type": "code",
      "source": [
        "# Mounting the Google Drive onto the Colab Notebook for importing the datasets. \n",
        "from google.colab import drive\n",
        "drive.mount('/content/drive')"
      ],
      "metadata": {
        "colab": {
          "base_uri": "https://localhost:8080/"
        },
        "id": "akvMRxo_xO6c",
        "outputId": "bfcb9e75-d9a0-439d-dac4-3b25a76a6400"
      },
      "execution_count": 3,
      "outputs": [
        {
          "output_type": "stream",
          "name": "stdout",
          "text": [
            "Drive already mounted at /content/drive; to attempt to forcibly remount, call drive.mount(\"/content/drive\", force_remount=True).\n"
          ]
        }
      ]
    },
    {
      "cell_type": "code",
      "source": [
        "#Importing Rossmann Stores Data\n",
        "rs_data = pd.read_csv('/content/drive/MyDrive/Colab Notebooks/Rossmann Sales Prediction - Potdar Vinayak/dataset/Rossmann Stores Data.csv',low_memory=False)\n",
        "rs_data.head()"
      ],
      "metadata": {
        "colab": {
          "base_uri": "https://localhost:8080/",
          "height": 206
        },
        "id": "lAVEHoptf0oW",
        "outputId": "374ee365-ff3a-42df-d13f-379a33261322"
      },
      "execution_count": 4,
      "outputs": [
        {
          "output_type": "execute_result",
          "data": {
            "text/plain": [
              "   Store  DayOfWeek        Date  Sales  Customers  Open  Promo StateHoliday  \\\n",
              "0      1          5  2015-07-31   5263        555     1      1            0   \n",
              "1      2          5  2015-07-31   6064        625     1      1            0   \n",
              "2      3          5  2015-07-31   8314        821     1      1            0   \n",
              "3      4          5  2015-07-31  13995       1498     1      1            0   \n",
              "4      5          5  2015-07-31   4822        559     1      1            0   \n",
              "\n",
              "   SchoolHoliday  \n",
              "0              1  \n",
              "1              1  \n",
              "2              1  \n",
              "3              1  \n",
              "4              1  "
            ],
            "text/html": [
              "\n",
              "  <div id=\"df-d5051fdf-573e-4aec-be7c-f77535eb88f9\">\n",
              "    <div class=\"colab-df-container\">\n",
              "      <div>\n",
              "<style scoped>\n",
              "    .dataframe tbody tr th:only-of-type {\n",
              "        vertical-align: middle;\n",
              "    }\n",
              "\n",
              "    .dataframe tbody tr th {\n",
              "        vertical-align: top;\n",
              "    }\n",
              "\n",
              "    .dataframe thead th {\n",
              "        text-align: right;\n",
              "    }\n",
              "</style>\n",
              "<table border=\"1\" class=\"dataframe\">\n",
              "  <thead>\n",
              "    <tr style=\"text-align: right;\">\n",
              "      <th></th>\n",
              "      <th>Store</th>\n",
              "      <th>DayOfWeek</th>\n",
              "      <th>Date</th>\n",
              "      <th>Sales</th>\n",
              "      <th>Customers</th>\n",
              "      <th>Open</th>\n",
              "      <th>Promo</th>\n",
              "      <th>StateHoliday</th>\n",
              "      <th>SchoolHoliday</th>\n",
              "    </tr>\n",
              "  </thead>\n",
              "  <tbody>\n",
              "    <tr>\n",
              "      <th>0</th>\n",
              "      <td>1</td>\n",
              "      <td>5</td>\n",
              "      <td>2015-07-31</td>\n",
              "      <td>5263</td>\n",
              "      <td>555</td>\n",
              "      <td>1</td>\n",
              "      <td>1</td>\n",
              "      <td>0</td>\n",
              "      <td>1</td>\n",
              "    </tr>\n",
              "    <tr>\n",
              "      <th>1</th>\n",
              "      <td>2</td>\n",
              "      <td>5</td>\n",
              "      <td>2015-07-31</td>\n",
              "      <td>6064</td>\n",
              "      <td>625</td>\n",
              "      <td>1</td>\n",
              "      <td>1</td>\n",
              "      <td>0</td>\n",
              "      <td>1</td>\n",
              "    </tr>\n",
              "    <tr>\n",
              "      <th>2</th>\n",
              "      <td>3</td>\n",
              "      <td>5</td>\n",
              "      <td>2015-07-31</td>\n",
              "      <td>8314</td>\n",
              "      <td>821</td>\n",
              "      <td>1</td>\n",
              "      <td>1</td>\n",
              "      <td>0</td>\n",
              "      <td>1</td>\n",
              "    </tr>\n",
              "    <tr>\n",
              "      <th>3</th>\n",
              "      <td>4</td>\n",
              "      <td>5</td>\n",
              "      <td>2015-07-31</td>\n",
              "      <td>13995</td>\n",
              "      <td>1498</td>\n",
              "      <td>1</td>\n",
              "      <td>1</td>\n",
              "      <td>0</td>\n",
              "      <td>1</td>\n",
              "    </tr>\n",
              "    <tr>\n",
              "      <th>4</th>\n",
              "      <td>5</td>\n",
              "      <td>5</td>\n",
              "      <td>2015-07-31</td>\n",
              "      <td>4822</td>\n",
              "      <td>559</td>\n",
              "      <td>1</td>\n",
              "      <td>1</td>\n",
              "      <td>0</td>\n",
              "      <td>1</td>\n",
              "    </tr>\n",
              "  </tbody>\n",
              "</table>\n",
              "</div>\n",
              "      <button class=\"colab-df-convert\" onclick=\"convertToInteractive('df-d5051fdf-573e-4aec-be7c-f77535eb88f9')\"\n",
              "              title=\"Convert this dataframe to an interactive table.\"\n",
              "              style=\"display:none;\">\n",
              "        \n",
              "  <svg xmlns=\"http://www.w3.org/2000/svg\" height=\"24px\"viewBox=\"0 0 24 24\"\n",
              "       width=\"24px\">\n",
              "    <path d=\"M0 0h24v24H0V0z\" fill=\"none\"/>\n",
              "    <path d=\"M18.56 5.44l.94 2.06.94-2.06 2.06-.94-2.06-.94-.94-2.06-.94 2.06-2.06.94zm-11 1L8.5 8.5l.94-2.06 2.06-.94-2.06-.94L8.5 2.5l-.94 2.06-2.06.94zm10 10l.94 2.06.94-2.06 2.06-.94-2.06-.94-.94-2.06-.94 2.06-2.06.94z\"/><path d=\"M17.41 7.96l-1.37-1.37c-.4-.4-.92-.59-1.43-.59-.52 0-1.04.2-1.43.59L10.3 9.45l-7.72 7.72c-.78.78-.78 2.05 0 2.83L4 21.41c.39.39.9.59 1.41.59.51 0 1.02-.2 1.41-.59l7.78-7.78 2.81-2.81c.8-.78.8-2.07 0-2.86zM5.41 20L4 18.59l7.72-7.72 1.47 1.35L5.41 20z\"/>\n",
              "  </svg>\n",
              "      </button>\n",
              "      \n",
              "  <style>\n",
              "    .colab-df-container {\n",
              "      display:flex;\n",
              "      flex-wrap:wrap;\n",
              "      gap: 12px;\n",
              "    }\n",
              "\n",
              "    .colab-df-convert {\n",
              "      background-color: #E8F0FE;\n",
              "      border: none;\n",
              "      border-radius: 50%;\n",
              "      cursor: pointer;\n",
              "      display: none;\n",
              "      fill: #1967D2;\n",
              "      height: 32px;\n",
              "      padding: 0 0 0 0;\n",
              "      width: 32px;\n",
              "    }\n",
              "\n",
              "    .colab-df-convert:hover {\n",
              "      background-color: #E2EBFA;\n",
              "      box-shadow: 0px 1px 2px rgba(60, 64, 67, 0.3), 0px 1px 3px 1px rgba(60, 64, 67, 0.15);\n",
              "      fill: #174EA6;\n",
              "    }\n",
              "\n",
              "    [theme=dark] .colab-df-convert {\n",
              "      background-color: #3B4455;\n",
              "      fill: #D2E3FC;\n",
              "    }\n",
              "\n",
              "    [theme=dark] .colab-df-convert:hover {\n",
              "      background-color: #434B5C;\n",
              "      box-shadow: 0px 1px 3px 1px rgba(0, 0, 0, 0.15);\n",
              "      filter: drop-shadow(0px 1px 2px rgba(0, 0, 0, 0.3));\n",
              "      fill: #FFFFFF;\n",
              "    }\n",
              "  </style>\n",
              "\n",
              "      <script>\n",
              "        const buttonEl =\n",
              "          document.querySelector('#df-d5051fdf-573e-4aec-be7c-f77535eb88f9 button.colab-df-convert');\n",
              "        buttonEl.style.display =\n",
              "          google.colab.kernel.accessAllowed ? 'block' : 'none';\n",
              "\n",
              "        async function convertToInteractive(key) {\n",
              "          const element = document.querySelector('#df-d5051fdf-573e-4aec-be7c-f77535eb88f9');\n",
              "          const dataTable =\n",
              "            await google.colab.kernel.invokeFunction('convertToInteractive',\n",
              "                                                     [key], {});\n",
              "          if (!dataTable) return;\n",
              "\n",
              "          const docLinkHtml = 'Like what you see? Visit the ' +\n",
              "            '<a target=\"_blank\" href=https://colab.research.google.com/notebooks/data_table.ipynb>data table notebook</a>'\n",
              "            + ' to learn more about interactive tables.';\n",
              "          element.innerHTML = '';\n",
              "          dataTable['output_type'] = 'display_data';\n",
              "          await google.colab.output.renderOutput(dataTable, element);\n",
              "          const docLink = document.createElement('div');\n",
              "          docLink.innerHTML = docLinkHtml;\n",
              "          element.appendChild(docLink);\n",
              "        }\n",
              "      </script>\n",
              "    </div>\n",
              "  </div>\n",
              "  "
            ]
          },
          "metadata": {},
          "execution_count": 4
        }
      ]
    },
    {
      "cell_type": "code",
      "source": [
        "rs_data.tail()"
      ],
      "metadata": {
        "colab": {
          "base_uri": "https://localhost:8080/",
          "height": 206
        },
        "id": "oyfNCIWKgcEQ",
        "outputId": "0c3d1a83-3293-4c61-8dc1-d66b5132b56b"
      },
      "execution_count": 5,
      "outputs": [
        {
          "output_type": "execute_result",
          "data": {
            "text/plain": [
              "         Store  DayOfWeek        Date  Sales  Customers  Open  Promo  \\\n",
              "1017204   1111          2  2013-01-01      0          0     0      0   \n",
              "1017205   1112          2  2013-01-01      0          0     0      0   \n",
              "1017206   1113          2  2013-01-01      0          0     0      0   \n",
              "1017207   1114          2  2013-01-01      0          0     0      0   \n",
              "1017208   1115          2  2013-01-01      0          0     0      0   \n",
              "\n",
              "        StateHoliday  SchoolHoliday  \n",
              "1017204            a              1  \n",
              "1017205            a              1  \n",
              "1017206            a              1  \n",
              "1017207            a              1  \n",
              "1017208            a              1  "
            ],
            "text/html": [
              "\n",
              "  <div id=\"df-d9c8170a-fe68-4299-900a-177dc5d96cb2\">\n",
              "    <div class=\"colab-df-container\">\n",
              "      <div>\n",
              "<style scoped>\n",
              "    .dataframe tbody tr th:only-of-type {\n",
              "        vertical-align: middle;\n",
              "    }\n",
              "\n",
              "    .dataframe tbody tr th {\n",
              "        vertical-align: top;\n",
              "    }\n",
              "\n",
              "    .dataframe thead th {\n",
              "        text-align: right;\n",
              "    }\n",
              "</style>\n",
              "<table border=\"1\" class=\"dataframe\">\n",
              "  <thead>\n",
              "    <tr style=\"text-align: right;\">\n",
              "      <th></th>\n",
              "      <th>Store</th>\n",
              "      <th>DayOfWeek</th>\n",
              "      <th>Date</th>\n",
              "      <th>Sales</th>\n",
              "      <th>Customers</th>\n",
              "      <th>Open</th>\n",
              "      <th>Promo</th>\n",
              "      <th>StateHoliday</th>\n",
              "      <th>SchoolHoliday</th>\n",
              "    </tr>\n",
              "  </thead>\n",
              "  <tbody>\n",
              "    <tr>\n",
              "      <th>1017204</th>\n",
              "      <td>1111</td>\n",
              "      <td>2</td>\n",
              "      <td>2013-01-01</td>\n",
              "      <td>0</td>\n",
              "      <td>0</td>\n",
              "      <td>0</td>\n",
              "      <td>0</td>\n",
              "      <td>a</td>\n",
              "      <td>1</td>\n",
              "    </tr>\n",
              "    <tr>\n",
              "      <th>1017205</th>\n",
              "      <td>1112</td>\n",
              "      <td>2</td>\n",
              "      <td>2013-01-01</td>\n",
              "      <td>0</td>\n",
              "      <td>0</td>\n",
              "      <td>0</td>\n",
              "      <td>0</td>\n",
              "      <td>a</td>\n",
              "      <td>1</td>\n",
              "    </tr>\n",
              "    <tr>\n",
              "      <th>1017206</th>\n",
              "      <td>1113</td>\n",
              "      <td>2</td>\n",
              "      <td>2013-01-01</td>\n",
              "      <td>0</td>\n",
              "      <td>0</td>\n",
              "      <td>0</td>\n",
              "      <td>0</td>\n",
              "      <td>a</td>\n",
              "      <td>1</td>\n",
              "    </tr>\n",
              "    <tr>\n",
              "      <th>1017207</th>\n",
              "      <td>1114</td>\n",
              "      <td>2</td>\n",
              "      <td>2013-01-01</td>\n",
              "      <td>0</td>\n",
              "      <td>0</td>\n",
              "      <td>0</td>\n",
              "      <td>0</td>\n",
              "      <td>a</td>\n",
              "      <td>1</td>\n",
              "    </tr>\n",
              "    <tr>\n",
              "      <th>1017208</th>\n",
              "      <td>1115</td>\n",
              "      <td>2</td>\n",
              "      <td>2013-01-01</td>\n",
              "      <td>0</td>\n",
              "      <td>0</td>\n",
              "      <td>0</td>\n",
              "      <td>0</td>\n",
              "      <td>a</td>\n",
              "      <td>1</td>\n",
              "    </tr>\n",
              "  </tbody>\n",
              "</table>\n",
              "</div>\n",
              "      <button class=\"colab-df-convert\" onclick=\"convertToInteractive('df-d9c8170a-fe68-4299-900a-177dc5d96cb2')\"\n",
              "              title=\"Convert this dataframe to an interactive table.\"\n",
              "              style=\"display:none;\">\n",
              "        \n",
              "  <svg xmlns=\"http://www.w3.org/2000/svg\" height=\"24px\"viewBox=\"0 0 24 24\"\n",
              "       width=\"24px\">\n",
              "    <path d=\"M0 0h24v24H0V0z\" fill=\"none\"/>\n",
              "    <path d=\"M18.56 5.44l.94 2.06.94-2.06 2.06-.94-2.06-.94-.94-2.06-.94 2.06-2.06.94zm-11 1L8.5 8.5l.94-2.06 2.06-.94-2.06-.94L8.5 2.5l-.94 2.06-2.06.94zm10 10l.94 2.06.94-2.06 2.06-.94-2.06-.94-.94-2.06-.94 2.06-2.06.94z\"/><path d=\"M17.41 7.96l-1.37-1.37c-.4-.4-.92-.59-1.43-.59-.52 0-1.04.2-1.43.59L10.3 9.45l-7.72 7.72c-.78.78-.78 2.05 0 2.83L4 21.41c.39.39.9.59 1.41.59.51 0 1.02-.2 1.41-.59l7.78-7.78 2.81-2.81c.8-.78.8-2.07 0-2.86zM5.41 20L4 18.59l7.72-7.72 1.47 1.35L5.41 20z\"/>\n",
              "  </svg>\n",
              "      </button>\n",
              "      \n",
              "  <style>\n",
              "    .colab-df-container {\n",
              "      display:flex;\n",
              "      flex-wrap:wrap;\n",
              "      gap: 12px;\n",
              "    }\n",
              "\n",
              "    .colab-df-convert {\n",
              "      background-color: #E8F0FE;\n",
              "      border: none;\n",
              "      border-radius: 50%;\n",
              "      cursor: pointer;\n",
              "      display: none;\n",
              "      fill: #1967D2;\n",
              "      height: 32px;\n",
              "      padding: 0 0 0 0;\n",
              "      width: 32px;\n",
              "    }\n",
              "\n",
              "    .colab-df-convert:hover {\n",
              "      background-color: #E2EBFA;\n",
              "      box-shadow: 0px 1px 2px rgba(60, 64, 67, 0.3), 0px 1px 3px 1px rgba(60, 64, 67, 0.15);\n",
              "      fill: #174EA6;\n",
              "    }\n",
              "\n",
              "    [theme=dark] .colab-df-convert {\n",
              "      background-color: #3B4455;\n",
              "      fill: #D2E3FC;\n",
              "    }\n",
              "\n",
              "    [theme=dark] .colab-df-convert:hover {\n",
              "      background-color: #434B5C;\n",
              "      box-shadow: 0px 1px 3px 1px rgba(0, 0, 0, 0.15);\n",
              "      filter: drop-shadow(0px 1px 2px rgba(0, 0, 0, 0.3));\n",
              "      fill: #FFFFFF;\n",
              "    }\n",
              "  </style>\n",
              "\n",
              "      <script>\n",
              "        const buttonEl =\n",
              "          document.querySelector('#df-d9c8170a-fe68-4299-900a-177dc5d96cb2 button.colab-df-convert');\n",
              "        buttonEl.style.display =\n",
              "          google.colab.kernel.accessAllowed ? 'block' : 'none';\n",
              "\n",
              "        async function convertToInteractive(key) {\n",
              "          const element = document.querySelector('#df-d9c8170a-fe68-4299-900a-177dc5d96cb2');\n",
              "          const dataTable =\n",
              "            await google.colab.kernel.invokeFunction('convertToInteractive',\n",
              "                                                     [key], {});\n",
              "          if (!dataTable) return;\n",
              "\n",
              "          const docLinkHtml = 'Like what you see? Visit the ' +\n",
              "            '<a target=\"_blank\" href=https://colab.research.google.com/notebooks/data_table.ipynb>data table notebook</a>'\n",
              "            + ' to learn more about interactive tables.';\n",
              "          element.innerHTML = '';\n",
              "          dataTable['output_type'] = 'display_data';\n",
              "          await google.colab.output.renderOutput(dataTable, element);\n",
              "          const docLink = document.createElement('div');\n",
              "          docLink.innerHTML = docLinkHtml;\n",
              "          element.appendChild(docLink);\n",
              "        }\n",
              "      </script>\n",
              "    </div>\n",
              "  </div>\n",
              "  "
            ]
          },
          "metadata": {},
          "execution_count": 5
        }
      ]
    },
    {
      "cell_type": "code",
      "source": [
        "rs_data.shape"
      ],
      "metadata": {
        "colab": {
          "base_uri": "https://localhost:8080/"
        },
        "id": "lm6wkErphazb",
        "outputId": "85d2e300-ebab-436c-fab4-fe239da119e5"
      },
      "execution_count": 6,
      "outputs": [
        {
          "output_type": "execute_result",
          "data": {
            "text/plain": [
              "(1017209, 9)"
            ]
          },
          "metadata": {},
          "execution_count": 6
        }
      ]
    },
    {
      "cell_type": "code",
      "source": [
        "rs_data.describe()"
      ],
      "metadata": {
        "colab": {
          "base_uri": "https://localhost:8080/",
          "height": 300
        },
        "id": "jsl2p1ikK4ju",
        "outputId": "19375c45-89d0-4aec-a840-3843ce26cfc1"
      },
      "execution_count": 7,
      "outputs": [
        {
          "output_type": "execute_result",
          "data": {
            "text/plain": [
              "              Store     DayOfWeek         Sales     Customers          Open  \\\n",
              "count  1.017209e+06  1.017209e+06  1.017209e+06  1.017209e+06  1.017209e+06   \n",
              "mean   5.584297e+02  3.998341e+00  5.773819e+03  6.331459e+02  8.301067e-01   \n",
              "std    3.219087e+02  1.997391e+00  3.849926e+03  4.644117e+02  3.755392e-01   \n",
              "min    1.000000e+00  1.000000e+00  0.000000e+00  0.000000e+00  0.000000e+00   \n",
              "25%    2.800000e+02  2.000000e+00  3.727000e+03  4.050000e+02  1.000000e+00   \n",
              "50%    5.580000e+02  4.000000e+00  5.744000e+03  6.090000e+02  1.000000e+00   \n",
              "75%    8.380000e+02  6.000000e+00  7.856000e+03  8.370000e+02  1.000000e+00   \n",
              "max    1.115000e+03  7.000000e+00  4.155100e+04  7.388000e+03  1.000000e+00   \n",
              "\n",
              "              Promo  SchoolHoliday  \n",
              "count  1.017209e+06   1.017209e+06  \n",
              "mean   3.815145e-01   1.786467e-01  \n",
              "std    4.857586e-01   3.830564e-01  \n",
              "min    0.000000e+00   0.000000e+00  \n",
              "25%    0.000000e+00   0.000000e+00  \n",
              "50%    0.000000e+00   0.000000e+00  \n",
              "75%    1.000000e+00   0.000000e+00  \n",
              "max    1.000000e+00   1.000000e+00  "
            ],
            "text/html": [
              "\n",
              "  <div id=\"df-42cc2be6-ecab-4ed2-a4ac-873bd878e72f\">\n",
              "    <div class=\"colab-df-container\">\n",
              "      <div>\n",
              "<style scoped>\n",
              "    .dataframe tbody tr th:only-of-type {\n",
              "        vertical-align: middle;\n",
              "    }\n",
              "\n",
              "    .dataframe tbody tr th {\n",
              "        vertical-align: top;\n",
              "    }\n",
              "\n",
              "    .dataframe thead th {\n",
              "        text-align: right;\n",
              "    }\n",
              "</style>\n",
              "<table border=\"1\" class=\"dataframe\">\n",
              "  <thead>\n",
              "    <tr style=\"text-align: right;\">\n",
              "      <th></th>\n",
              "      <th>Store</th>\n",
              "      <th>DayOfWeek</th>\n",
              "      <th>Sales</th>\n",
              "      <th>Customers</th>\n",
              "      <th>Open</th>\n",
              "      <th>Promo</th>\n",
              "      <th>SchoolHoliday</th>\n",
              "    </tr>\n",
              "  </thead>\n",
              "  <tbody>\n",
              "    <tr>\n",
              "      <th>count</th>\n",
              "      <td>1.017209e+06</td>\n",
              "      <td>1.017209e+06</td>\n",
              "      <td>1.017209e+06</td>\n",
              "      <td>1.017209e+06</td>\n",
              "      <td>1.017209e+06</td>\n",
              "      <td>1.017209e+06</td>\n",
              "      <td>1.017209e+06</td>\n",
              "    </tr>\n",
              "    <tr>\n",
              "      <th>mean</th>\n",
              "      <td>5.584297e+02</td>\n",
              "      <td>3.998341e+00</td>\n",
              "      <td>5.773819e+03</td>\n",
              "      <td>6.331459e+02</td>\n",
              "      <td>8.301067e-01</td>\n",
              "      <td>3.815145e-01</td>\n",
              "      <td>1.786467e-01</td>\n",
              "    </tr>\n",
              "    <tr>\n",
              "      <th>std</th>\n",
              "      <td>3.219087e+02</td>\n",
              "      <td>1.997391e+00</td>\n",
              "      <td>3.849926e+03</td>\n",
              "      <td>4.644117e+02</td>\n",
              "      <td>3.755392e-01</td>\n",
              "      <td>4.857586e-01</td>\n",
              "      <td>3.830564e-01</td>\n",
              "    </tr>\n",
              "    <tr>\n",
              "      <th>min</th>\n",
              "      <td>1.000000e+00</td>\n",
              "      <td>1.000000e+00</td>\n",
              "      <td>0.000000e+00</td>\n",
              "      <td>0.000000e+00</td>\n",
              "      <td>0.000000e+00</td>\n",
              "      <td>0.000000e+00</td>\n",
              "      <td>0.000000e+00</td>\n",
              "    </tr>\n",
              "    <tr>\n",
              "      <th>25%</th>\n",
              "      <td>2.800000e+02</td>\n",
              "      <td>2.000000e+00</td>\n",
              "      <td>3.727000e+03</td>\n",
              "      <td>4.050000e+02</td>\n",
              "      <td>1.000000e+00</td>\n",
              "      <td>0.000000e+00</td>\n",
              "      <td>0.000000e+00</td>\n",
              "    </tr>\n",
              "    <tr>\n",
              "      <th>50%</th>\n",
              "      <td>5.580000e+02</td>\n",
              "      <td>4.000000e+00</td>\n",
              "      <td>5.744000e+03</td>\n",
              "      <td>6.090000e+02</td>\n",
              "      <td>1.000000e+00</td>\n",
              "      <td>0.000000e+00</td>\n",
              "      <td>0.000000e+00</td>\n",
              "    </tr>\n",
              "    <tr>\n",
              "      <th>75%</th>\n",
              "      <td>8.380000e+02</td>\n",
              "      <td>6.000000e+00</td>\n",
              "      <td>7.856000e+03</td>\n",
              "      <td>8.370000e+02</td>\n",
              "      <td>1.000000e+00</td>\n",
              "      <td>1.000000e+00</td>\n",
              "      <td>0.000000e+00</td>\n",
              "    </tr>\n",
              "    <tr>\n",
              "      <th>max</th>\n",
              "      <td>1.115000e+03</td>\n",
              "      <td>7.000000e+00</td>\n",
              "      <td>4.155100e+04</td>\n",
              "      <td>7.388000e+03</td>\n",
              "      <td>1.000000e+00</td>\n",
              "      <td>1.000000e+00</td>\n",
              "      <td>1.000000e+00</td>\n",
              "    </tr>\n",
              "  </tbody>\n",
              "</table>\n",
              "</div>\n",
              "      <button class=\"colab-df-convert\" onclick=\"convertToInteractive('df-42cc2be6-ecab-4ed2-a4ac-873bd878e72f')\"\n",
              "              title=\"Convert this dataframe to an interactive table.\"\n",
              "              style=\"display:none;\">\n",
              "        \n",
              "  <svg xmlns=\"http://www.w3.org/2000/svg\" height=\"24px\"viewBox=\"0 0 24 24\"\n",
              "       width=\"24px\">\n",
              "    <path d=\"M0 0h24v24H0V0z\" fill=\"none\"/>\n",
              "    <path d=\"M18.56 5.44l.94 2.06.94-2.06 2.06-.94-2.06-.94-.94-2.06-.94 2.06-2.06.94zm-11 1L8.5 8.5l.94-2.06 2.06-.94-2.06-.94L8.5 2.5l-.94 2.06-2.06.94zm10 10l.94 2.06.94-2.06 2.06-.94-2.06-.94-.94-2.06-.94 2.06-2.06.94z\"/><path d=\"M17.41 7.96l-1.37-1.37c-.4-.4-.92-.59-1.43-.59-.52 0-1.04.2-1.43.59L10.3 9.45l-7.72 7.72c-.78.78-.78 2.05 0 2.83L4 21.41c.39.39.9.59 1.41.59.51 0 1.02-.2 1.41-.59l7.78-7.78 2.81-2.81c.8-.78.8-2.07 0-2.86zM5.41 20L4 18.59l7.72-7.72 1.47 1.35L5.41 20z\"/>\n",
              "  </svg>\n",
              "      </button>\n",
              "      \n",
              "  <style>\n",
              "    .colab-df-container {\n",
              "      display:flex;\n",
              "      flex-wrap:wrap;\n",
              "      gap: 12px;\n",
              "    }\n",
              "\n",
              "    .colab-df-convert {\n",
              "      background-color: #E8F0FE;\n",
              "      border: none;\n",
              "      border-radius: 50%;\n",
              "      cursor: pointer;\n",
              "      display: none;\n",
              "      fill: #1967D2;\n",
              "      height: 32px;\n",
              "      padding: 0 0 0 0;\n",
              "      width: 32px;\n",
              "    }\n",
              "\n",
              "    .colab-df-convert:hover {\n",
              "      background-color: #E2EBFA;\n",
              "      box-shadow: 0px 1px 2px rgba(60, 64, 67, 0.3), 0px 1px 3px 1px rgba(60, 64, 67, 0.15);\n",
              "      fill: #174EA6;\n",
              "    }\n",
              "\n",
              "    [theme=dark] .colab-df-convert {\n",
              "      background-color: #3B4455;\n",
              "      fill: #D2E3FC;\n",
              "    }\n",
              "\n",
              "    [theme=dark] .colab-df-convert:hover {\n",
              "      background-color: #434B5C;\n",
              "      box-shadow: 0px 1px 3px 1px rgba(0, 0, 0, 0.15);\n",
              "      filter: drop-shadow(0px 1px 2px rgba(0, 0, 0, 0.3));\n",
              "      fill: #FFFFFF;\n",
              "    }\n",
              "  </style>\n",
              "\n",
              "      <script>\n",
              "        const buttonEl =\n",
              "          document.querySelector('#df-42cc2be6-ecab-4ed2-a4ac-873bd878e72f button.colab-df-convert');\n",
              "        buttonEl.style.display =\n",
              "          google.colab.kernel.accessAllowed ? 'block' : 'none';\n",
              "\n",
              "        async function convertToInteractive(key) {\n",
              "          const element = document.querySelector('#df-42cc2be6-ecab-4ed2-a4ac-873bd878e72f');\n",
              "          const dataTable =\n",
              "            await google.colab.kernel.invokeFunction('convertToInteractive',\n",
              "                                                     [key], {});\n",
              "          if (!dataTable) return;\n",
              "\n",
              "          const docLinkHtml = 'Like what you see? Visit the ' +\n",
              "            '<a target=\"_blank\" href=https://colab.research.google.com/notebooks/data_table.ipynb>data table notebook</a>'\n",
              "            + ' to learn more about interactive tables.';\n",
              "          element.innerHTML = '';\n",
              "          dataTable['output_type'] = 'display_data';\n",
              "          await google.colab.output.renderOutput(dataTable, element);\n",
              "          const docLink = document.createElement('div');\n",
              "          docLink.innerHTML = docLinkHtml;\n",
              "          element.appendChild(docLink);\n",
              "        }\n",
              "      </script>\n",
              "    </div>\n",
              "  </div>\n",
              "  "
            ]
          },
          "metadata": {},
          "execution_count": 7
        }
      ]
    },
    {
      "cell_type": "code",
      "source": [
        "#Importing the Stores Data\n",
        "s_data = pd.read_csv('/content/drive/MyDrive/Colab Notebooks/Rossmann Sales Prediction - Potdar Vinayak/dataset/store.csv')\n",
        "s_data.head()"
      ],
      "metadata": {
        "colab": {
          "base_uri": "https://localhost:8080/",
          "height": 206
        },
        "id": "HcT19AjOgsz4",
        "outputId": "ecd1de70-515e-4633-cb99-6daea8c65bb8"
      },
      "execution_count": 8,
      "outputs": [
        {
          "output_type": "execute_result",
          "data": {
            "text/plain": [
              "   Store StoreType Assortment  CompetitionDistance  CompetitionOpenSinceMonth  \\\n",
              "0      1         c          a               1270.0                        9.0   \n",
              "1      2         a          a                570.0                       11.0   \n",
              "2      3         a          a              14130.0                       12.0   \n",
              "3      4         c          c                620.0                        9.0   \n",
              "4      5         a          a              29910.0                        4.0   \n",
              "\n",
              "   CompetitionOpenSinceYear  Promo2  Promo2SinceWeek  Promo2SinceYear  \\\n",
              "0                    2008.0       0              NaN              NaN   \n",
              "1                    2007.0       1             13.0           2010.0   \n",
              "2                    2006.0       1             14.0           2011.0   \n",
              "3                    2009.0       0              NaN              NaN   \n",
              "4                    2015.0       0              NaN              NaN   \n",
              "\n",
              "     PromoInterval  \n",
              "0              NaN  \n",
              "1  Jan,Apr,Jul,Oct  \n",
              "2  Jan,Apr,Jul,Oct  \n",
              "3              NaN  \n",
              "4              NaN  "
            ],
            "text/html": [
              "\n",
              "  <div id=\"df-95fd539c-b8bb-4a73-9261-9d3263a530c0\">\n",
              "    <div class=\"colab-df-container\">\n",
              "      <div>\n",
              "<style scoped>\n",
              "    .dataframe tbody tr th:only-of-type {\n",
              "        vertical-align: middle;\n",
              "    }\n",
              "\n",
              "    .dataframe tbody tr th {\n",
              "        vertical-align: top;\n",
              "    }\n",
              "\n",
              "    .dataframe thead th {\n",
              "        text-align: right;\n",
              "    }\n",
              "</style>\n",
              "<table border=\"1\" class=\"dataframe\">\n",
              "  <thead>\n",
              "    <tr style=\"text-align: right;\">\n",
              "      <th></th>\n",
              "      <th>Store</th>\n",
              "      <th>StoreType</th>\n",
              "      <th>Assortment</th>\n",
              "      <th>CompetitionDistance</th>\n",
              "      <th>CompetitionOpenSinceMonth</th>\n",
              "      <th>CompetitionOpenSinceYear</th>\n",
              "      <th>Promo2</th>\n",
              "      <th>Promo2SinceWeek</th>\n",
              "      <th>Promo2SinceYear</th>\n",
              "      <th>PromoInterval</th>\n",
              "    </tr>\n",
              "  </thead>\n",
              "  <tbody>\n",
              "    <tr>\n",
              "      <th>0</th>\n",
              "      <td>1</td>\n",
              "      <td>c</td>\n",
              "      <td>a</td>\n",
              "      <td>1270.0</td>\n",
              "      <td>9.0</td>\n",
              "      <td>2008.0</td>\n",
              "      <td>0</td>\n",
              "      <td>NaN</td>\n",
              "      <td>NaN</td>\n",
              "      <td>NaN</td>\n",
              "    </tr>\n",
              "    <tr>\n",
              "      <th>1</th>\n",
              "      <td>2</td>\n",
              "      <td>a</td>\n",
              "      <td>a</td>\n",
              "      <td>570.0</td>\n",
              "      <td>11.0</td>\n",
              "      <td>2007.0</td>\n",
              "      <td>1</td>\n",
              "      <td>13.0</td>\n",
              "      <td>2010.0</td>\n",
              "      <td>Jan,Apr,Jul,Oct</td>\n",
              "    </tr>\n",
              "    <tr>\n",
              "      <th>2</th>\n",
              "      <td>3</td>\n",
              "      <td>a</td>\n",
              "      <td>a</td>\n",
              "      <td>14130.0</td>\n",
              "      <td>12.0</td>\n",
              "      <td>2006.0</td>\n",
              "      <td>1</td>\n",
              "      <td>14.0</td>\n",
              "      <td>2011.0</td>\n",
              "      <td>Jan,Apr,Jul,Oct</td>\n",
              "    </tr>\n",
              "    <tr>\n",
              "      <th>3</th>\n",
              "      <td>4</td>\n",
              "      <td>c</td>\n",
              "      <td>c</td>\n",
              "      <td>620.0</td>\n",
              "      <td>9.0</td>\n",
              "      <td>2009.0</td>\n",
              "      <td>0</td>\n",
              "      <td>NaN</td>\n",
              "      <td>NaN</td>\n",
              "      <td>NaN</td>\n",
              "    </tr>\n",
              "    <tr>\n",
              "      <th>4</th>\n",
              "      <td>5</td>\n",
              "      <td>a</td>\n",
              "      <td>a</td>\n",
              "      <td>29910.0</td>\n",
              "      <td>4.0</td>\n",
              "      <td>2015.0</td>\n",
              "      <td>0</td>\n",
              "      <td>NaN</td>\n",
              "      <td>NaN</td>\n",
              "      <td>NaN</td>\n",
              "    </tr>\n",
              "  </tbody>\n",
              "</table>\n",
              "</div>\n",
              "      <button class=\"colab-df-convert\" onclick=\"convertToInteractive('df-95fd539c-b8bb-4a73-9261-9d3263a530c0')\"\n",
              "              title=\"Convert this dataframe to an interactive table.\"\n",
              "              style=\"display:none;\">\n",
              "        \n",
              "  <svg xmlns=\"http://www.w3.org/2000/svg\" height=\"24px\"viewBox=\"0 0 24 24\"\n",
              "       width=\"24px\">\n",
              "    <path d=\"M0 0h24v24H0V0z\" fill=\"none\"/>\n",
              "    <path d=\"M18.56 5.44l.94 2.06.94-2.06 2.06-.94-2.06-.94-.94-2.06-.94 2.06-2.06.94zm-11 1L8.5 8.5l.94-2.06 2.06-.94-2.06-.94L8.5 2.5l-.94 2.06-2.06.94zm10 10l.94 2.06.94-2.06 2.06-.94-2.06-.94-.94-2.06-.94 2.06-2.06.94z\"/><path d=\"M17.41 7.96l-1.37-1.37c-.4-.4-.92-.59-1.43-.59-.52 0-1.04.2-1.43.59L10.3 9.45l-7.72 7.72c-.78.78-.78 2.05 0 2.83L4 21.41c.39.39.9.59 1.41.59.51 0 1.02-.2 1.41-.59l7.78-7.78 2.81-2.81c.8-.78.8-2.07 0-2.86zM5.41 20L4 18.59l7.72-7.72 1.47 1.35L5.41 20z\"/>\n",
              "  </svg>\n",
              "      </button>\n",
              "      \n",
              "  <style>\n",
              "    .colab-df-container {\n",
              "      display:flex;\n",
              "      flex-wrap:wrap;\n",
              "      gap: 12px;\n",
              "    }\n",
              "\n",
              "    .colab-df-convert {\n",
              "      background-color: #E8F0FE;\n",
              "      border: none;\n",
              "      border-radius: 50%;\n",
              "      cursor: pointer;\n",
              "      display: none;\n",
              "      fill: #1967D2;\n",
              "      height: 32px;\n",
              "      padding: 0 0 0 0;\n",
              "      width: 32px;\n",
              "    }\n",
              "\n",
              "    .colab-df-convert:hover {\n",
              "      background-color: #E2EBFA;\n",
              "      box-shadow: 0px 1px 2px rgba(60, 64, 67, 0.3), 0px 1px 3px 1px rgba(60, 64, 67, 0.15);\n",
              "      fill: #174EA6;\n",
              "    }\n",
              "\n",
              "    [theme=dark] .colab-df-convert {\n",
              "      background-color: #3B4455;\n",
              "      fill: #D2E3FC;\n",
              "    }\n",
              "\n",
              "    [theme=dark] .colab-df-convert:hover {\n",
              "      background-color: #434B5C;\n",
              "      box-shadow: 0px 1px 3px 1px rgba(0, 0, 0, 0.15);\n",
              "      filter: drop-shadow(0px 1px 2px rgba(0, 0, 0, 0.3));\n",
              "      fill: #FFFFFF;\n",
              "    }\n",
              "  </style>\n",
              "\n",
              "      <script>\n",
              "        const buttonEl =\n",
              "          document.querySelector('#df-95fd539c-b8bb-4a73-9261-9d3263a530c0 button.colab-df-convert');\n",
              "        buttonEl.style.display =\n",
              "          google.colab.kernel.accessAllowed ? 'block' : 'none';\n",
              "\n",
              "        async function convertToInteractive(key) {\n",
              "          const element = document.querySelector('#df-95fd539c-b8bb-4a73-9261-9d3263a530c0');\n",
              "          const dataTable =\n",
              "            await google.colab.kernel.invokeFunction('convertToInteractive',\n",
              "                                                     [key], {});\n",
              "          if (!dataTable) return;\n",
              "\n",
              "          const docLinkHtml = 'Like what you see? Visit the ' +\n",
              "            '<a target=\"_blank\" href=https://colab.research.google.com/notebooks/data_table.ipynb>data table notebook</a>'\n",
              "            + ' to learn more about interactive tables.';\n",
              "          element.innerHTML = '';\n",
              "          dataTable['output_type'] = 'display_data';\n",
              "          await google.colab.output.renderOutput(dataTable, element);\n",
              "          const docLink = document.createElement('div');\n",
              "          docLink.innerHTML = docLinkHtml;\n",
              "          element.appendChild(docLink);\n",
              "        }\n",
              "      </script>\n",
              "    </div>\n",
              "  </div>\n",
              "  "
            ]
          },
          "metadata": {},
          "execution_count": 8
        }
      ]
    },
    {
      "cell_type": "code",
      "source": [
        "s_data.tail()"
      ],
      "metadata": {
        "colab": {
          "base_uri": "https://localhost:8080/",
          "height": 206
        },
        "id": "l_Kg1gMZhYR1",
        "outputId": "1d909521-4d9e-4153-8c12-df8e0f477a0c"
      },
      "execution_count": 9,
      "outputs": [
        {
          "output_type": "execute_result",
          "data": {
            "text/plain": [
              "      Store StoreType Assortment  CompetitionDistance  \\\n",
              "1110   1111         a          a               1900.0   \n",
              "1111   1112         c          c               1880.0   \n",
              "1112   1113         a          c               9260.0   \n",
              "1113   1114         a          c                870.0   \n",
              "1114   1115         d          c               5350.0   \n",
              "\n",
              "      CompetitionOpenSinceMonth  CompetitionOpenSinceYear  Promo2  \\\n",
              "1110                        6.0                    2014.0       1   \n",
              "1111                        4.0                    2006.0       0   \n",
              "1112                        NaN                       NaN       0   \n",
              "1113                        NaN                       NaN       0   \n",
              "1114                        NaN                       NaN       1   \n",
              "\n",
              "      Promo2SinceWeek  Promo2SinceYear     PromoInterval  \n",
              "1110             31.0           2013.0   Jan,Apr,Jul,Oct  \n",
              "1111              NaN              NaN               NaN  \n",
              "1112              NaN              NaN               NaN  \n",
              "1113              NaN              NaN               NaN  \n",
              "1114             22.0           2012.0  Mar,Jun,Sept,Dec  "
            ],
            "text/html": [
              "\n",
              "  <div id=\"df-c1dd6c29-3100-4153-9429-d8e274caaf37\">\n",
              "    <div class=\"colab-df-container\">\n",
              "      <div>\n",
              "<style scoped>\n",
              "    .dataframe tbody tr th:only-of-type {\n",
              "        vertical-align: middle;\n",
              "    }\n",
              "\n",
              "    .dataframe tbody tr th {\n",
              "        vertical-align: top;\n",
              "    }\n",
              "\n",
              "    .dataframe thead th {\n",
              "        text-align: right;\n",
              "    }\n",
              "</style>\n",
              "<table border=\"1\" class=\"dataframe\">\n",
              "  <thead>\n",
              "    <tr style=\"text-align: right;\">\n",
              "      <th></th>\n",
              "      <th>Store</th>\n",
              "      <th>StoreType</th>\n",
              "      <th>Assortment</th>\n",
              "      <th>CompetitionDistance</th>\n",
              "      <th>CompetitionOpenSinceMonth</th>\n",
              "      <th>CompetitionOpenSinceYear</th>\n",
              "      <th>Promo2</th>\n",
              "      <th>Promo2SinceWeek</th>\n",
              "      <th>Promo2SinceYear</th>\n",
              "      <th>PromoInterval</th>\n",
              "    </tr>\n",
              "  </thead>\n",
              "  <tbody>\n",
              "    <tr>\n",
              "      <th>1110</th>\n",
              "      <td>1111</td>\n",
              "      <td>a</td>\n",
              "      <td>a</td>\n",
              "      <td>1900.0</td>\n",
              "      <td>6.0</td>\n",
              "      <td>2014.0</td>\n",
              "      <td>1</td>\n",
              "      <td>31.0</td>\n",
              "      <td>2013.0</td>\n",
              "      <td>Jan,Apr,Jul,Oct</td>\n",
              "    </tr>\n",
              "    <tr>\n",
              "      <th>1111</th>\n",
              "      <td>1112</td>\n",
              "      <td>c</td>\n",
              "      <td>c</td>\n",
              "      <td>1880.0</td>\n",
              "      <td>4.0</td>\n",
              "      <td>2006.0</td>\n",
              "      <td>0</td>\n",
              "      <td>NaN</td>\n",
              "      <td>NaN</td>\n",
              "      <td>NaN</td>\n",
              "    </tr>\n",
              "    <tr>\n",
              "      <th>1112</th>\n",
              "      <td>1113</td>\n",
              "      <td>a</td>\n",
              "      <td>c</td>\n",
              "      <td>9260.0</td>\n",
              "      <td>NaN</td>\n",
              "      <td>NaN</td>\n",
              "      <td>0</td>\n",
              "      <td>NaN</td>\n",
              "      <td>NaN</td>\n",
              "      <td>NaN</td>\n",
              "    </tr>\n",
              "    <tr>\n",
              "      <th>1113</th>\n",
              "      <td>1114</td>\n",
              "      <td>a</td>\n",
              "      <td>c</td>\n",
              "      <td>870.0</td>\n",
              "      <td>NaN</td>\n",
              "      <td>NaN</td>\n",
              "      <td>0</td>\n",
              "      <td>NaN</td>\n",
              "      <td>NaN</td>\n",
              "      <td>NaN</td>\n",
              "    </tr>\n",
              "    <tr>\n",
              "      <th>1114</th>\n",
              "      <td>1115</td>\n",
              "      <td>d</td>\n",
              "      <td>c</td>\n",
              "      <td>5350.0</td>\n",
              "      <td>NaN</td>\n",
              "      <td>NaN</td>\n",
              "      <td>1</td>\n",
              "      <td>22.0</td>\n",
              "      <td>2012.0</td>\n",
              "      <td>Mar,Jun,Sept,Dec</td>\n",
              "    </tr>\n",
              "  </tbody>\n",
              "</table>\n",
              "</div>\n",
              "      <button class=\"colab-df-convert\" onclick=\"convertToInteractive('df-c1dd6c29-3100-4153-9429-d8e274caaf37')\"\n",
              "              title=\"Convert this dataframe to an interactive table.\"\n",
              "              style=\"display:none;\">\n",
              "        \n",
              "  <svg xmlns=\"http://www.w3.org/2000/svg\" height=\"24px\"viewBox=\"0 0 24 24\"\n",
              "       width=\"24px\">\n",
              "    <path d=\"M0 0h24v24H0V0z\" fill=\"none\"/>\n",
              "    <path d=\"M18.56 5.44l.94 2.06.94-2.06 2.06-.94-2.06-.94-.94-2.06-.94 2.06-2.06.94zm-11 1L8.5 8.5l.94-2.06 2.06-.94-2.06-.94L8.5 2.5l-.94 2.06-2.06.94zm10 10l.94 2.06.94-2.06 2.06-.94-2.06-.94-.94-2.06-.94 2.06-2.06.94z\"/><path d=\"M17.41 7.96l-1.37-1.37c-.4-.4-.92-.59-1.43-.59-.52 0-1.04.2-1.43.59L10.3 9.45l-7.72 7.72c-.78.78-.78 2.05 0 2.83L4 21.41c.39.39.9.59 1.41.59.51 0 1.02-.2 1.41-.59l7.78-7.78 2.81-2.81c.8-.78.8-2.07 0-2.86zM5.41 20L4 18.59l7.72-7.72 1.47 1.35L5.41 20z\"/>\n",
              "  </svg>\n",
              "      </button>\n",
              "      \n",
              "  <style>\n",
              "    .colab-df-container {\n",
              "      display:flex;\n",
              "      flex-wrap:wrap;\n",
              "      gap: 12px;\n",
              "    }\n",
              "\n",
              "    .colab-df-convert {\n",
              "      background-color: #E8F0FE;\n",
              "      border: none;\n",
              "      border-radius: 50%;\n",
              "      cursor: pointer;\n",
              "      display: none;\n",
              "      fill: #1967D2;\n",
              "      height: 32px;\n",
              "      padding: 0 0 0 0;\n",
              "      width: 32px;\n",
              "    }\n",
              "\n",
              "    .colab-df-convert:hover {\n",
              "      background-color: #E2EBFA;\n",
              "      box-shadow: 0px 1px 2px rgba(60, 64, 67, 0.3), 0px 1px 3px 1px rgba(60, 64, 67, 0.15);\n",
              "      fill: #174EA6;\n",
              "    }\n",
              "\n",
              "    [theme=dark] .colab-df-convert {\n",
              "      background-color: #3B4455;\n",
              "      fill: #D2E3FC;\n",
              "    }\n",
              "\n",
              "    [theme=dark] .colab-df-convert:hover {\n",
              "      background-color: #434B5C;\n",
              "      box-shadow: 0px 1px 3px 1px rgba(0, 0, 0, 0.15);\n",
              "      filter: drop-shadow(0px 1px 2px rgba(0, 0, 0, 0.3));\n",
              "      fill: #FFFFFF;\n",
              "    }\n",
              "  </style>\n",
              "\n",
              "      <script>\n",
              "        const buttonEl =\n",
              "          document.querySelector('#df-c1dd6c29-3100-4153-9429-d8e274caaf37 button.colab-df-convert');\n",
              "        buttonEl.style.display =\n",
              "          google.colab.kernel.accessAllowed ? 'block' : 'none';\n",
              "\n",
              "        async function convertToInteractive(key) {\n",
              "          const element = document.querySelector('#df-c1dd6c29-3100-4153-9429-d8e274caaf37');\n",
              "          const dataTable =\n",
              "            await google.colab.kernel.invokeFunction('convertToInteractive',\n",
              "                                                     [key], {});\n",
              "          if (!dataTable) return;\n",
              "\n",
              "          const docLinkHtml = 'Like what you see? Visit the ' +\n",
              "            '<a target=\"_blank\" href=https://colab.research.google.com/notebooks/data_table.ipynb>data table notebook</a>'\n",
              "            + ' to learn more about interactive tables.';\n",
              "          element.innerHTML = '';\n",
              "          dataTable['output_type'] = 'display_data';\n",
              "          await google.colab.output.renderOutput(dataTable, element);\n",
              "          const docLink = document.createElement('div');\n",
              "          docLink.innerHTML = docLinkHtml;\n",
              "          element.appendChild(docLink);\n",
              "        }\n",
              "      </script>\n",
              "    </div>\n",
              "  </div>\n",
              "  "
            ]
          },
          "metadata": {},
          "execution_count": 9
        }
      ]
    },
    {
      "cell_type": "code",
      "source": [
        "s_data.shape"
      ],
      "metadata": {
        "colab": {
          "base_uri": "https://localhost:8080/"
        },
        "id": "WniWTvsj05hI",
        "outputId": "b0bfbd5c-1772-4683-fab5-15c826b65d95"
      },
      "execution_count": 10,
      "outputs": [
        {
          "output_type": "execute_result",
          "data": {
            "text/plain": [
              "(1115, 10)"
            ]
          },
          "metadata": {},
          "execution_count": 10
        }
      ]
    },
    {
      "cell_type": "markdown",
      "source": [
        "We can see that both the tables have different number of records, but the Store ID can be used to join the s_data with the rs_data table."
      ],
      "metadata": {
        "id": "sNK6iu5m1TGO"
      }
    },
    {
      "cell_type": "markdown",
      "source": [
        "# Null Value Analysis:\n",
        "Let us check how many null values do we have in both the tables."
      ],
      "metadata": {
        "id": "01Vla3XDLTey"
      }
    },
    {
      "cell_type": "code",
      "source": [
        "rs_data.isnull().sum()"
      ],
      "metadata": {
        "colab": {
          "base_uri": "https://localhost:8080/"
        },
        "id": "QqwhrsxQ07NP",
        "outputId": "df835b95-e53f-4f47-e1fd-36f4900a33e9"
      },
      "execution_count": 11,
      "outputs": [
        {
          "output_type": "execute_result",
          "data": {
            "text/plain": [
              "Store            0\n",
              "DayOfWeek        0\n",
              "Date             0\n",
              "Sales            0\n",
              "Customers        0\n",
              "Open             0\n",
              "Promo            0\n",
              "StateHoliday     0\n",
              "SchoolHoliday    0\n",
              "dtype: int64"
            ]
          },
          "metadata": {},
          "execution_count": 11
        }
      ]
    },
    {
      "cell_type": "code",
      "source": [
        "s_data.isnull().sum()"
      ],
      "metadata": {
        "colab": {
          "base_uri": "https://localhost:8080/"
        },
        "id": "kBrKDsKJ1uqQ",
        "outputId": "eee1bd98-59f0-4331-ba96-16db280903bf"
      },
      "execution_count": 12,
      "outputs": [
        {
          "output_type": "execute_result",
          "data": {
            "text/plain": [
              "Store                          0\n",
              "StoreType                      0\n",
              "Assortment                     0\n",
              "CompetitionDistance            3\n",
              "CompetitionOpenSinceMonth    354\n",
              "CompetitionOpenSinceYear     354\n",
              "Promo2                         0\n",
              "Promo2SinceWeek              544\n",
              "Promo2SinceYear              544\n",
              "PromoInterval                544\n",
              "dtype: int64"
            ]
          },
          "metadata": {},
          "execution_count": 12
        }
      ]
    },
    {
      "cell_type": "markdown",
      "source": [
        "The rs_data table has no null values.\n",
        "\n",
        "In the s_data table, the major feature that can help in the further analysis is CompetetionDistance. The same cannot be said for the rest of the features, as about 1/3rd of the data is missing from those features. Let us handle the 3 missing values and leave the rest alone for now.\n",
        "\n",
        "The Missing values can be replaced by median or mode as they are not really affected by the outliers."
      ],
      "metadata": {
        "id": "v4s_H5j13EeC"
      }
    },
    {
      "cell_type": "code",
      "source": [
        "# Replacing the missing values with the median of the data.\n",
        "s_data['CompetitionDistance'].fillna(s_data['CompetitionDistance'].median(), inplace = True)"
      ],
      "metadata": {
        "id": "s9j7flab1yL4"
      },
      "execution_count": 13,
      "outputs": []
    },
    {
      "cell_type": "markdown",
      "source": [
        "Now, let us start with cleaning and rearranging the data as per our need. We shall start with the date.\n",
        "\n",
        "Here, we will be needing a more clearer picture of the Date column, to calculate the sales by days and months."
      ],
      "metadata": {
        "id": "_arIEQZL4wYW"
      }
    },
    {
      "cell_type": "code",
      "source": [
        "# Extracting the Day, Month, Year from the Date Column.\n",
        "rs_data['Year'] =pd.DatetimeIndex(rs_data['Date']).year\n",
        "rs_data['Month'] =pd.DatetimeIndex(rs_data['Date']).month\n",
        "rs_data['Day'] =pd.DatetimeIndex(rs_data['Date']).day\n"
      ],
      "metadata": {
        "id": "TvvNLsfY3x_y"
      },
      "execution_count": 14,
      "outputs": []
    },
    {
      "cell_type": "code",
      "source": [
        "rs_data = rs_data.reset_index()"
      ],
      "metadata": {
        "id": "9lzTF9Wx5YOz"
      },
      "execution_count": 15,
      "outputs": []
    },
    {
      "cell_type": "code",
      "source": [
        "rs_data.head()"
      ],
      "metadata": {
        "colab": {
          "base_uri": "https://localhost:8080/",
          "height": 206
        },
        "id": "J-QR0WVh5Ntn",
        "outputId": "47a273bc-4438-42f2-f006-d385710e36c0"
      },
      "execution_count": 16,
      "outputs": [
        {
          "output_type": "execute_result",
          "data": {
            "text/plain": [
              "   index  Store  DayOfWeek        Date  Sales  Customers  Open  Promo  \\\n",
              "0      0      1          5  2015-07-31   5263        555     1      1   \n",
              "1      1      2          5  2015-07-31   6064        625     1      1   \n",
              "2      2      3          5  2015-07-31   8314        821     1      1   \n",
              "3      3      4          5  2015-07-31  13995       1498     1      1   \n",
              "4      4      5          5  2015-07-31   4822        559     1      1   \n",
              "\n",
              "  StateHoliday  SchoolHoliday  Year  Month  Day  \n",
              "0            0              1  2015      7   31  \n",
              "1            0              1  2015      7   31  \n",
              "2            0              1  2015      7   31  \n",
              "3            0              1  2015      7   31  \n",
              "4            0              1  2015      7   31  "
            ],
            "text/html": [
              "\n",
              "  <div id=\"df-64b2f99a-1192-45ca-b428-fc8e6a481451\">\n",
              "    <div class=\"colab-df-container\">\n",
              "      <div>\n",
              "<style scoped>\n",
              "    .dataframe tbody tr th:only-of-type {\n",
              "        vertical-align: middle;\n",
              "    }\n",
              "\n",
              "    .dataframe tbody tr th {\n",
              "        vertical-align: top;\n",
              "    }\n",
              "\n",
              "    .dataframe thead th {\n",
              "        text-align: right;\n",
              "    }\n",
              "</style>\n",
              "<table border=\"1\" class=\"dataframe\">\n",
              "  <thead>\n",
              "    <tr style=\"text-align: right;\">\n",
              "      <th></th>\n",
              "      <th>index</th>\n",
              "      <th>Store</th>\n",
              "      <th>DayOfWeek</th>\n",
              "      <th>Date</th>\n",
              "      <th>Sales</th>\n",
              "      <th>Customers</th>\n",
              "      <th>Open</th>\n",
              "      <th>Promo</th>\n",
              "      <th>StateHoliday</th>\n",
              "      <th>SchoolHoliday</th>\n",
              "      <th>Year</th>\n",
              "      <th>Month</th>\n",
              "      <th>Day</th>\n",
              "    </tr>\n",
              "  </thead>\n",
              "  <tbody>\n",
              "    <tr>\n",
              "      <th>0</th>\n",
              "      <td>0</td>\n",
              "      <td>1</td>\n",
              "      <td>5</td>\n",
              "      <td>2015-07-31</td>\n",
              "      <td>5263</td>\n",
              "      <td>555</td>\n",
              "      <td>1</td>\n",
              "      <td>1</td>\n",
              "      <td>0</td>\n",
              "      <td>1</td>\n",
              "      <td>2015</td>\n",
              "      <td>7</td>\n",
              "      <td>31</td>\n",
              "    </tr>\n",
              "    <tr>\n",
              "      <th>1</th>\n",
              "      <td>1</td>\n",
              "      <td>2</td>\n",
              "      <td>5</td>\n",
              "      <td>2015-07-31</td>\n",
              "      <td>6064</td>\n",
              "      <td>625</td>\n",
              "      <td>1</td>\n",
              "      <td>1</td>\n",
              "      <td>0</td>\n",
              "      <td>1</td>\n",
              "      <td>2015</td>\n",
              "      <td>7</td>\n",
              "      <td>31</td>\n",
              "    </tr>\n",
              "    <tr>\n",
              "      <th>2</th>\n",
              "      <td>2</td>\n",
              "      <td>3</td>\n",
              "      <td>5</td>\n",
              "      <td>2015-07-31</td>\n",
              "      <td>8314</td>\n",
              "      <td>821</td>\n",
              "      <td>1</td>\n",
              "      <td>1</td>\n",
              "      <td>0</td>\n",
              "      <td>1</td>\n",
              "      <td>2015</td>\n",
              "      <td>7</td>\n",
              "      <td>31</td>\n",
              "    </tr>\n",
              "    <tr>\n",
              "      <th>3</th>\n",
              "      <td>3</td>\n",
              "      <td>4</td>\n",
              "      <td>5</td>\n",
              "      <td>2015-07-31</td>\n",
              "      <td>13995</td>\n",
              "      <td>1498</td>\n",
              "      <td>1</td>\n",
              "      <td>1</td>\n",
              "      <td>0</td>\n",
              "      <td>1</td>\n",
              "      <td>2015</td>\n",
              "      <td>7</td>\n",
              "      <td>31</td>\n",
              "    </tr>\n",
              "    <tr>\n",
              "      <th>4</th>\n",
              "      <td>4</td>\n",
              "      <td>5</td>\n",
              "      <td>5</td>\n",
              "      <td>2015-07-31</td>\n",
              "      <td>4822</td>\n",
              "      <td>559</td>\n",
              "      <td>1</td>\n",
              "      <td>1</td>\n",
              "      <td>0</td>\n",
              "      <td>1</td>\n",
              "      <td>2015</td>\n",
              "      <td>7</td>\n",
              "      <td>31</td>\n",
              "    </tr>\n",
              "  </tbody>\n",
              "</table>\n",
              "</div>\n",
              "      <button class=\"colab-df-convert\" onclick=\"convertToInteractive('df-64b2f99a-1192-45ca-b428-fc8e6a481451')\"\n",
              "              title=\"Convert this dataframe to an interactive table.\"\n",
              "              style=\"display:none;\">\n",
              "        \n",
              "  <svg xmlns=\"http://www.w3.org/2000/svg\" height=\"24px\"viewBox=\"0 0 24 24\"\n",
              "       width=\"24px\">\n",
              "    <path d=\"M0 0h24v24H0V0z\" fill=\"none\"/>\n",
              "    <path d=\"M18.56 5.44l.94 2.06.94-2.06 2.06-.94-2.06-.94-.94-2.06-.94 2.06-2.06.94zm-11 1L8.5 8.5l.94-2.06 2.06-.94-2.06-.94L8.5 2.5l-.94 2.06-2.06.94zm10 10l.94 2.06.94-2.06 2.06-.94-2.06-.94-.94-2.06-.94 2.06-2.06.94z\"/><path d=\"M17.41 7.96l-1.37-1.37c-.4-.4-.92-.59-1.43-.59-.52 0-1.04.2-1.43.59L10.3 9.45l-7.72 7.72c-.78.78-.78 2.05 0 2.83L4 21.41c.39.39.9.59 1.41.59.51 0 1.02-.2 1.41-.59l7.78-7.78 2.81-2.81c.8-.78.8-2.07 0-2.86zM5.41 20L4 18.59l7.72-7.72 1.47 1.35L5.41 20z\"/>\n",
              "  </svg>\n",
              "      </button>\n",
              "      \n",
              "  <style>\n",
              "    .colab-df-container {\n",
              "      display:flex;\n",
              "      flex-wrap:wrap;\n",
              "      gap: 12px;\n",
              "    }\n",
              "\n",
              "    .colab-df-convert {\n",
              "      background-color: #E8F0FE;\n",
              "      border: none;\n",
              "      border-radius: 50%;\n",
              "      cursor: pointer;\n",
              "      display: none;\n",
              "      fill: #1967D2;\n",
              "      height: 32px;\n",
              "      padding: 0 0 0 0;\n",
              "      width: 32px;\n",
              "    }\n",
              "\n",
              "    .colab-df-convert:hover {\n",
              "      background-color: #E2EBFA;\n",
              "      box-shadow: 0px 1px 2px rgba(60, 64, 67, 0.3), 0px 1px 3px 1px rgba(60, 64, 67, 0.15);\n",
              "      fill: #174EA6;\n",
              "    }\n",
              "\n",
              "    [theme=dark] .colab-df-convert {\n",
              "      background-color: #3B4455;\n",
              "      fill: #D2E3FC;\n",
              "    }\n",
              "\n",
              "    [theme=dark] .colab-df-convert:hover {\n",
              "      background-color: #434B5C;\n",
              "      box-shadow: 0px 1px 3px 1px rgba(0, 0, 0, 0.15);\n",
              "      filter: drop-shadow(0px 1px 2px rgba(0, 0, 0, 0.3));\n",
              "      fill: #FFFFFF;\n",
              "    }\n",
              "  </style>\n",
              "\n",
              "      <script>\n",
              "        const buttonEl =\n",
              "          document.querySelector('#df-64b2f99a-1192-45ca-b428-fc8e6a481451 button.colab-df-convert');\n",
              "        buttonEl.style.display =\n",
              "          google.colab.kernel.accessAllowed ? 'block' : 'none';\n",
              "\n",
              "        async function convertToInteractive(key) {\n",
              "          const element = document.querySelector('#df-64b2f99a-1192-45ca-b428-fc8e6a481451');\n",
              "          const dataTable =\n",
              "            await google.colab.kernel.invokeFunction('convertToInteractive',\n",
              "                                                     [key], {});\n",
              "          if (!dataTable) return;\n",
              "\n",
              "          const docLinkHtml = 'Like what you see? Visit the ' +\n",
              "            '<a target=\"_blank\" href=https://colab.research.google.com/notebooks/data_table.ipynb>data table notebook</a>'\n",
              "            + ' to learn more about interactive tables.';\n",
              "          element.innerHTML = '';\n",
              "          dataTable['output_type'] = 'display_data';\n",
              "          await google.colab.output.renderOutput(dataTable, element);\n",
              "          const docLink = document.createElement('div');\n",
              "          docLink.innerHTML = docLinkHtml;\n",
              "          element.appendChild(docLink);\n",
              "        }\n",
              "      </script>\n",
              "    </div>\n",
              "  </div>\n",
              "  "
            ]
          },
          "metadata": {},
          "execution_count": 16
        }
      ]
    },
    {
      "cell_type": "code",
      "source": [
        "rs_data.info()"
      ],
      "metadata": {
        "colab": {
          "base_uri": "https://localhost:8080/"
        },
        "id": "9DX4jTi_5QC2",
        "outputId": "8de6f290-4314-42d8-e24d-84bd0f759f8f"
      },
      "execution_count": 17,
      "outputs": [
        {
          "output_type": "stream",
          "name": "stdout",
          "text": [
            "<class 'pandas.core.frame.DataFrame'>\n",
            "RangeIndex: 1017209 entries, 0 to 1017208\n",
            "Data columns (total 13 columns):\n",
            " #   Column         Non-Null Count    Dtype \n",
            "---  ------         --------------    ----- \n",
            " 0   index          1017209 non-null  int64 \n",
            " 1   Store          1017209 non-null  int64 \n",
            " 2   DayOfWeek      1017209 non-null  int64 \n",
            " 3   Date           1017209 non-null  object\n",
            " 4   Sales          1017209 non-null  int64 \n",
            " 5   Customers      1017209 non-null  int64 \n",
            " 6   Open           1017209 non-null  int64 \n",
            " 7   Promo          1017209 non-null  int64 \n",
            " 8   StateHoliday   1017209 non-null  object\n",
            " 9   SchoolHoliday  1017209 non-null  int64 \n",
            " 10  Year           1017209 non-null  int64 \n",
            " 11  Month          1017209 non-null  int64 \n",
            " 12  Day            1017209 non-null  int64 \n",
            "dtypes: int64(11), object(2)\n",
            "memory usage: 100.9+ MB\n"
          ]
        }
      ]
    },
    {
      "cell_type": "markdown",
      "source": [
        "We may drop the date column if we want, because it's function is being fulfilled by the three colums we just created. We can go ahead with joining both the tables. rs_data is the data with more records, so we should left join s_data onto rs_data."
      ],
      "metadata": {
        "id": "LwacSExr5sY6"
      }
    },
    {
      "cell_type": "code",
      "source": [
        "# Here we are joining the two tables on the feature Store as it consists the unique id of each store.\n",
        "dataset = pd.merge(rs_data, s_data, how='left', on='Store')"
      ],
      "metadata": {
        "id": "9-6ZVU0L5iFX"
      },
      "execution_count": 18,
      "outputs": []
    },
    {
      "cell_type": "code",
      "source": [
        "dataset.head()"
      ],
      "metadata": {
        "colab": {
          "base_uri": "https://localhost:8080/",
          "height": 357
        },
        "id": "I5z1Rx_m63-k",
        "outputId": "5fe81c45-7b20-4dc6-9cc0-f71f0ee6a823"
      },
      "execution_count": 19,
      "outputs": [
        {
          "output_type": "execute_result",
          "data": {
            "text/plain": [
              "   index  Store  DayOfWeek        Date  Sales  Customers  Open  Promo  \\\n",
              "0      0      1          5  2015-07-31   5263        555     1      1   \n",
              "1      1      2          5  2015-07-31   6064        625     1      1   \n",
              "2      2      3          5  2015-07-31   8314        821     1      1   \n",
              "3      3      4          5  2015-07-31  13995       1498     1      1   \n",
              "4      4      5          5  2015-07-31   4822        559     1      1   \n",
              "\n",
              "  StateHoliday  SchoolHoliday  Year  Month  Day StoreType Assortment  \\\n",
              "0            0              1  2015      7   31         c          a   \n",
              "1            0              1  2015      7   31         a          a   \n",
              "2            0              1  2015      7   31         a          a   \n",
              "3            0              1  2015      7   31         c          c   \n",
              "4            0              1  2015      7   31         a          a   \n",
              "\n",
              "   CompetitionDistance  CompetitionOpenSinceMonth  CompetitionOpenSinceYear  \\\n",
              "0               1270.0                        9.0                    2008.0   \n",
              "1                570.0                       11.0                    2007.0   \n",
              "2              14130.0                       12.0                    2006.0   \n",
              "3                620.0                        9.0                    2009.0   \n",
              "4              29910.0                        4.0                    2015.0   \n",
              "\n",
              "   Promo2  Promo2SinceWeek  Promo2SinceYear    PromoInterval  \n",
              "0       0              NaN              NaN              NaN  \n",
              "1       1             13.0           2010.0  Jan,Apr,Jul,Oct  \n",
              "2       1             14.0           2011.0  Jan,Apr,Jul,Oct  \n",
              "3       0              NaN              NaN              NaN  \n",
              "4       0              NaN              NaN              NaN  "
            ],
            "text/html": [
              "\n",
              "  <div id=\"df-e89c155b-ea9b-488d-96d2-08a3878b89da\">\n",
              "    <div class=\"colab-df-container\">\n",
              "      <div>\n",
              "<style scoped>\n",
              "    .dataframe tbody tr th:only-of-type {\n",
              "        vertical-align: middle;\n",
              "    }\n",
              "\n",
              "    .dataframe tbody tr th {\n",
              "        vertical-align: top;\n",
              "    }\n",
              "\n",
              "    .dataframe thead th {\n",
              "        text-align: right;\n",
              "    }\n",
              "</style>\n",
              "<table border=\"1\" class=\"dataframe\">\n",
              "  <thead>\n",
              "    <tr style=\"text-align: right;\">\n",
              "      <th></th>\n",
              "      <th>index</th>\n",
              "      <th>Store</th>\n",
              "      <th>DayOfWeek</th>\n",
              "      <th>Date</th>\n",
              "      <th>Sales</th>\n",
              "      <th>Customers</th>\n",
              "      <th>Open</th>\n",
              "      <th>Promo</th>\n",
              "      <th>StateHoliday</th>\n",
              "      <th>SchoolHoliday</th>\n",
              "      <th>Year</th>\n",
              "      <th>Month</th>\n",
              "      <th>Day</th>\n",
              "      <th>StoreType</th>\n",
              "      <th>Assortment</th>\n",
              "      <th>CompetitionDistance</th>\n",
              "      <th>CompetitionOpenSinceMonth</th>\n",
              "      <th>CompetitionOpenSinceYear</th>\n",
              "      <th>Promo2</th>\n",
              "      <th>Promo2SinceWeek</th>\n",
              "      <th>Promo2SinceYear</th>\n",
              "      <th>PromoInterval</th>\n",
              "    </tr>\n",
              "  </thead>\n",
              "  <tbody>\n",
              "    <tr>\n",
              "      <th>0</th>\n",
              "      <td>0</td>\n",
              "      <td>1</td>\n",
              "      <td>5</td>\n",
              "      <td>2015-07-31</td>\n",
              "      <td>5263</td>\n",
              "      <td>555</td>\n",
              "      <td>1</td>\n",
              "      <td>1</td>\n",
              "      <td>0</td>\n",
              "      <td>1</td>\n",
              "      <td>2015</td>\n",
              "      <td>7</td>\n",
              "      <td>31</td>\n",
              "      <td>c</td>\n",
              "      <td>a</td>\n",
              "      <td>1270.0</td>\n",
              "      <td>9.0</td>\n",
              "      <td>2008.0</td>\n",
              "      <td>0</td>\n",
              "      <td>NaN</td>\n",
              "      <td>NaN</td>\n",
              "      <td>NaN</td>\n",
              "    </tr>\n",
              "    <tr>\n",
              "      <th>1</th>\n",
              "      <td>1</td>\n",
              "      <td>2</td>\n",
              "      <td>5</td>\n",
              "      <td>2015-07-31</td>\n",
              "      <td>6064</td>\n",
              "      <td>625</td>\n",
              "      <td>1</td>\n",
              "      <td>1</td>\n",
              "      <td>0</td>\n",
              "      <td>1</td>\n",
              "      <td>2015</td>\n",
              "      <td>7</td>\n",
              "      <td>31</td>\n",
              "      <td>a</td>\n",
              "      <td>a</td>\n",
              "      <td>570.0</td>\n",
              "      <td>11.0</td>\n",
              "      <td>2007.0</td>\n",
              "      <td>1</td>\n",
              "      <td>13.0</td>\n",
              "      <td>2010.0</td>\n",
              "      <td>Jan,Apr,Jul,Oct</td>\n",
              "    </tr>\n",
              "    <tr>\n",
              "      <th>2</th>\n",
              "      <td>2</td>\n",
              "      <td>3</td>\n",
              "      <td>5</td>\n",
              "      <td>2015-07-31</td>\n",
              "      <td>8314</td>\n",
              "      <td>821</td>\n",
              "      <td>1</td>\n",
              "      <td>1</td>\n",
              "      <td>0</td>\n",
              "      <td>1</td>\n",
              "      <td>2015</td>\n",
              "      <td>7</td>\n",
              "      <td>31</td>\n",
              "      <td>a</td>\n",
              "      <td>a</td>\n",
              "      <td>14130.0</td>\n",
              "      <td>12.0</td>\n",
              "      <td>2006.0</td>\n",
              "      <td>1</td>\n",
              "      <td>14.0</td>\n",
              "      <td>2011.0</td>\n",
              "      <td>Jan,Apr,Jul,Oct</td>\n",
              "    </tr>\n",
              "    <tr>\n",
              "      <th>3</th>\n",
              "      <td>3</td>\n",
              "      <td>4</td>\n",
              "      <td>5</td>\n",
              "      <td>2015-07-31</td>\n",
              "      <td>13995</td>\n",
              "      <td>1498</td>\n",
              "      <td>1</td>\n",
              "      <td>1</td>\n",
              "      <td>0</td>\n",
              "      <td>1</td>\n",
              "      <td>2015</td>\n",
              "      <td>7</td>\n",
              "      <td>31</td>\n",
              "      <td>c</td>\n",
              "      <td>c</td>\n",
              "      <td>620.0</td>\n",
              "      <td>9.0</td>\n",
              "      <td>2009.0</td>\n",
              "      <td>0</td>\n",
              "      <td>NaN</td>\n",
              "      <td>NaN</td>\n",
              "      <td>NaN</td>\n",
              "    </tr>\n",
              "    <tr>\n",
              "      <th>4</th>\n",
              "      <td>4</td>\n",
              "      <td>5</td>\n",
              "      <td>5</td>\n",
              "      <td>2015-07-31</td>\n",
              "      <td>4822</td>\n",
              "      <td>559</td>\n",
              "      <td>1</td>\n",
              "      <td>1</td>\n",
              "      <td>0</td>\n",
              "      <td>1</td>\n",
              "      <td>2015</td>\n",
              "      <td>7</td>\n",
              "      <td>31</td>\n",
              "      <td>a</td>\n",
              "      <td>a</td>\n",
              "      <td>29910.0</td>\n",
              "      <td>4.0</td>\n",
              "      <td>2015.0</td>\n",
              "      <td>0</td>\n",
              "      <td>NaN</td>\n",
              "      <td>NaN</td>\n",
              "      <td>NaN</td>\n",
              "    </tr>\n",
              "  </tbody>\n",
              "</table>\n",
              "</div>\n",
              "      <button class=\"colab-df-convert\" onclick=\"convertToInteractive('df-e89c155b-ea9b-488d-96d2-08a3878b89da')\"\n",
              "              title=\"Convert this dataframe to an interactive table.\"\n",
              "              style=\"display:none;\">\n",
              "        \n",
              "  <svg xmlns=\"http://www.w3.org/2000/svg\" height=\"24px\"viewBox=\"0 0 24 24\"\n",
              "       width=\"24px\">\n",
              "    <path d=\"M0 0h24v24H0V0z\" fill=\"none\"/>\n",
              "    <path d=\"M18.56 5.44l.94 2.06.94-2.06 2.06-.94-2.06-.94-.94-2.06-.94 2.06-2.06.94zm-11 1L8.5 8.5l.94-2.06 2.06-.94-2.06-.94L8.5 2.5l-.94 2.06-2.06.94zm10 10l.94 2.06.94-2.06 2.06-.94-2.06-.94-.94-2.06-.94 2.06-2.06.94z\"/><path d=\"M17.41 7.96l-1.37-1.37c-.4-.4-.92-.59-1.43-.59-.52 0-1.04.2-1.43.59L10.3 9.45l-7.72 7.72c-.78.78-.78 2.05 0 2.83L4 21.41c.39.39.9.59 1.41.59.51 0 1.02-.2 1.41-.59l7.78-7.78 2.81-2.81c.8-.78.8-2.07 0-2.86zM5.41 20L4 18.59l7.72-7.72 1.47 1.35L5.41 20z\"/>\n",
              "  </svg>\n",
              "      </button>\n",
              "      \n",
              "  <style>\n",
              "    .colab-df-container {\n",
              "      display:flex;\n",
              "      flex-wrap:wrap;\n",
              "      gap: 12px;\n",
              "    }\n",
              "\n",
              "    .colab-df-convert {\n",
              "      background-color: #E8F0FE;\n",
              "      border: none;\n",
              "      border-radius: 50%;\n",
              "      cursor: pointer;\n",
              "      display: none;\n",
              "      fill: #1967D2;\n",
              "      height: 32px;\n",
              "      padding: 0 0 0 0;\n",
              "      width: 32px;\n",
              "    }\n",
              "\n",
              "    .colab-df-convert:hover {\n",
              "      background-color: #E2EBFA;\n",
              "      box-shadow: 0px 1px 2px rgba(60, 64, 67, 0.3), 0px 1px 3px 1px rgba(60, 64, 67, 0.15);\n",
              "      fill: #174EA6;\n",
              "    }\n",
              "\n",
              "    [theme=dark] .colab-df-convert {\n",
              "      background-color: #3B4455;\n",
              "      fill: #D2E3FC;\n",
              "    }\n",
              "\n",
              "    [theme=dark] .colab-df-convert:hover {\n",
              "      background-color: #434B5C;\n",
              "      box-shadow: 0px 1px 3px 1px rgba(0, 0, 0, 0.15);\n",
              "      filter: drop-shadow(0px 1px 2px rgba(0, 0, 0, 0.3));\n",
              "      fill: #FFFFFF;\n",
              "    }\n",
              "  </style>\n",
              "\n",
              "      <script>\n",
              "        const buttonEl =\n",
              "          document.querySelector('#df-e89c155b-ea9b-488d-96d2-08a3878b89da button.colab-df-convert');\n",
              "        buttonEl.style.display =\n",
              "          google.colab.kernel.accessAllowed ? 'block' : 'none';\n",
              "\n",
              "        async function convertToInteractive(key) {\n",
              "          const element = document.querySelector('#df-e89c155b-ea9b-488d-96d2-08a3878b89da');\n",
              "          const dataTable =\n",
              "            await google.colab.kernel.invokeFunction('convertToInteractive',\n",
              "                                                     [key], {});\n",
              "          if (!dataTable) return;\n",
              "\n",
              "          const docLinkHtml = 'Like what you see? Visit the ' +\n",
              "            '<a target=\"_blank\" href=https://colab.research.google.com/notebooks/data_table.ipynb>data table notebook</a>'\n",
              "            + ' to learn more about interactive tables.';\n",
              "          element.innerHTML = '';\n",
              "          dataTable['output_type'] = 'display_data';\n",
              "          await google.colab.output.renderOutput(dataTable, element);\n",
              "          const docLink = document.createElement('div');\n",
              "          docLink.innerHTML = docLinkHtml;\n",
              "          element.appendChild(docLink);\n",
              "        }\n",
              "      </script>\n",
              "    </div>\n",
              "  </div>\n",
              "  "
            ]
          },
          "metadata": {},
          "execution_count": 19
        }
      ]
    },
    {
      "cell_type": "code",
      "source": [
        "dataset.shape"
      ],
      "metadata": {
        "colab": {
          "base_uri": "https://localhost:8080/"
        },
        "id": "W0ym1r8G7T-u",
        "outputId": "f01809e9-37a1-48b9-d6ee-764efdc85760"
      },
      "execution_count": 20,
      "outputs": [
        {
          "output_type": "execute_result",
          "data": {
            "text/plain": [
              "(1017209, 22)"
            ]
          },
          "metadata": {},
          "execution_count": 20
        }
      ]
    },
    {
      "cell_type": "code",
      "source": [
        "dataset.describe()"
      ],
      "metadata": {
        "colab": {
          "base_uri": "https://localhost:8080/",
          "height": 364
        },
        "id": "zfbvO9QBEF0p",
        "outputId": "fd7898f3-5bd2-4aad-dc6a-e3101ce6b6e8"
      },
      "execution_count": 21,
      "outputs": [
        {
          "output_type": "execute_result",
          "data": {
            "text/plain": [
              "              index         Store     DayOfWeek         Sales     Customers  \\\n",
              "count  1.017209e+06  1.017209e+06  1.017209e+06  1.017209e+06  1.017209e+06   \n",
              "mean   5.086040e+05  5.584297e+02  3.998341e+00  5.773819e+03  6.331459e+02   \n",
              "std    2.936431e+05  3.219087e+02  1.997391e+00  3.849926e+03  4.644117e+02   \n",
              "min    0.000000e+00  1.000000e+00  1.000000e+00  0.000000e+00  0.000000e+00   \n",
              "25%    2.543020e+05  2.800000e+02  2.000000e+00  3.727000e+03  4.050000e+02   \n",
              "50%    5.086040e+05  5.580000e+02  4.000000e+00  5.744000e+03  6.090000e+02   \n",
              "75%    7.629060e+05  8.380000e+02  6.000000e+00  7.856000e+03  8.370000e+02   \n",
              "max    1.017208e+06  1.115000e+03  7.000000e+00  4.155100e+04  7.388000e+03   \n",
              "\n",
              "               Open         Promo  SchoolHoliday          Year         Month  \\\n",
              "count  1.017209e+06  1.017209e+06   1.017209e+06  1.017209e+06  1.017209e+06   \n",
              "mean   8.301067e-01  3.815145e-01   1.786467e-01  2.013832e+03  5.846762e+00   \n",
              "std    3.755392e-01  4.857586e-01   3.830564e-01  7.773960e-01  3.326097e+00   \n",
              "min    0.000000e+00  0.000000e+00   0.000000e+00  2.013000e+03  1.000000e+00   \n",
              "25%    1.000000e+00  0.000000e+00   0.000000e+00  2.013000e+03  3.000000e+00   \n",
              "50%    1.000000e+00  0.000000e+00   0.000000e+00  2.014000e+03  6.000000e+00   \n",
              "75%    1.000000e+00  1.000000e+00   0.000000e+00  2.014000e+03  8.000000e+00   \n",
              "max    1.000000e+00  1.000000e+00   1.000000e+00  2.015000e+03  1.200000e+01   \n",
              "\n",
              "                Day  CompetitionDistance  CompetitionOpenSinceMonth  \\\n",
              "count  1.017209e+06         1.017209e+06              693861.000000   \n",
              "mean   1.570279e+01         5.422021e+03                   7.222866   \n",
              "std    8.787638e+00         7.706918e+03                   3.211832   \n",
              "min    1.000000e+00         2.000000e+01                   1.000000   \n",
              "25%    8.000000e+00         7.100000e+02                   4.000000   \n",
              "50%    1.600000e+01         2.325000e+03                   8.000000   \n",
              "75%    2.300000e+01         6.880000e+03                  10.000000   \n",
              "max    3.100000e+01         7.586000e+04                  12.000000   \n",
              "\n",
              "       CompetitionOpenSinceYear        Promo2  Promo2SinceWeek  \\\n",
              "count             693861.000000  1.017209e+06    509178.000000   \n",
              "mean                2008.690228  5.005638e-01        23.269093   \n",
              "std                    5.992644  4.999999e-01        14.095973   \n",
              "min                 1900.000000  0.000000e+00         1.000000   \n",
              "25%                 2006.000000  0.000000e+00        13.000000   \n",
              "50%                 2010.000000  1.000000e+00        22.000000   \n",
              "75%                 2013.000000  1.000000e+00        37.000000   \n",
              "max                 2015.000000  1.000000e+00        50.000000   \n",
              "\n",
              "       Promo2SinceYear  \n",
              "count    509178.000000  \n",
              "mean       2011.752774  \n",
              "std           1.662870  \n",
              "min        2009.000000  \n",
              "25%        2011.000000  \n",
              "50%        2012.000000  \n",
              "75%        2013.000000  \n",
              "max        2015.000000  "
            ],
            "text/html": [
              "\n",
              "  <div id=\"df-77837ddb-a2f8-45dd-8cc5-b0d2ad1e2f37\">\n",
              "    <div class=\"colab-df-container\">\n",
              "      <div>\n",
              "<style scoped>\n",
              "    .dataframe tbody tr th:only-of-type {\n",
              "        vertical-align: middle;\n",
              "    }\n",
              "\n",
              "    .dataframe tbody tr th {\n",
              "        vertical-align: top;\n",
              "    }\n",
              "\n",
              "    .dataframe thead th {\n",
              "        text-align: right;\n",
              "    }\n",
              "</style>\n",
              "<table border=\"1\" class=\"dataframe\">\n",
              "  <thead>\n",
              "    <tr style=\"text-align: right;\">\n",
              "      <th></th>\n",
              "      <th>index</th>\n",
              "      <th>Store</th>\n",
              "      <th>DayOfWeek</th>\n",
              "      <th>Sales</th>\n",
              "      <th>Customers</th>\n",
              "      <th>Open</th>\n",
              "      <th>Promo</th>\n",
              "      <th>SchoolHoliday</th>\n",
              "      <th>Year</th>\n",
              "      <th>Month</th>\n",
              "      <th>Day</th>\n",
              "      <th>CompetitionDistance</th>\n",
              "      <th>CompetitionOpenSinceMonth</th>\n",
              "      <th>CompetitionOpenSinceYear</th>\n",
              "      <th>Promo2</th>\n",
              "      <th>Promo2SinceWeek</th>\n",
              "      <th>Promo2SinceYear</th>\n",
              "    </tr>\n",
              "  </thead>\n",
              "  <tbody>\n",
              "    <tr>\n",
              "      <th>count</th>\n",
              "      <td>1.017209e+06</td>\n",
              "      <td>1.017209e+06</td>\n",
              "      <td>1.017209e+06</td>\n",
              "      <td>1.017209e+06</td>\n",
              "      <td>1.017209e+06</td>\n",
              "      <td>1.017209e+06</td>\n",
              "      <td>1.017209e+06</td>\n",
              "      <td>1.017209e+06</td>\n",
              "      <td>1.017209e+06</td>\n",
              "      <td>1.017209e+06</td>\n",
              "      <td>1.017209e+06</td>\n",
              "      <td>1.017209e+06</td>\n",
              "      <td>693861.000000</td>\n",
              "      <td>693861.000000</td>\n",
              "      <td>1.017209e+06</td>\n",
              "      <td>509178.000000</td>\n",
              "      <td>509178.000000</td>\n",
              "    </tr>\n",
              "    <tr>\n",
              "      <th>mean</th>\n",
              "      <td>5.086040e+05</td>\n",
              "      <td>5.584297e+02</td>\n",
              "      <td>3.998341e+00</td>\n",
              "      <td>5.773819e+03</td>\n",
              "      <td>6.331459e+02</td>\n",
              "      <td>8.301067e-01</td>\n",
              "      <td>3.815145e-01</td>\n",
              "      <td>1.786467e-01</td>\n",
              "      <td>2.013832e+03</td>\n",
              "      <td>5.846762e+00</td>\n",
              "      <td>1.570279e+01</td>\n",
              "      <td>5.422021e+03</td>\n",
              "      <td>7.222866</td>\n",
              "      <td>2008.690228</td>\n",
              "      <td>5.005638e-01</td>\n",
              "      <td>23.269093</td>\n",
              "      <td>2011.752774</td>\n",
              "    </tr>\n",
              "    <tr>\n",
              "      <th>std</th>\n",
              "      <td>2.936431e+05</td>\n",
              "      <td>3.219087e+02</td>\n",
              "      <td>1.997391e+00</td>\n",
              "      <td>3.849926e+03</td>\n",
              "      <td>4.644117e+02</td>\n",
              "      <td>3.755392e-01</td>\n",
              "      <td>4.857586e-01</td>\n",
              "      <td>3.830564e-01</td>\n",
              "      <td>7.773960e-01</td>\n",
              "      <td>3.326097e+00</td>\n",
              "      <td>8.787638e+00</td>\n",
              "      <td>7.706918e+03</td>\n",
              "      <td>3.211832</td>\n",
              "      <td>5.992644</td>\n",
              "      <td>4.999999e-01</td>\n",
              "      <td>14.095973</td>\n",
              "      <td>1.662870</td>\n",
              "    </tr>\n",
              "    <tr>\n",
              "      <th>min</th>\n",
              "      <td>0.000000e+00</td>\n",
              "      <td>1.000000e+00</td>\n",
              "      <td>1.000000e+00</td>\n",
              "      <td>0.000000e+00</td>\n",
              "      <td>0.000000e+00</td>\n",
              "      <td>0.000000e+00</td>\n",
              "      <td>0.000000e+00</td>\n",
              "      <td>0.000000e+00</td>\n",
              "      <td>2.013000e+03</td>\n",
              "      <td>1.000000e+00</td>\n",
              "      <td>1.000000e+00</td>\n",
              "      <td>2.000000e+01</td>\n",
              "      <td>1.000000</td>\n",
              "      <td>1900.000000</td>\n",
              "      <td>0.000000e+00</td>\n",
              "      <td>1.000000</td>\n",
              "      <td>2009.000000</td>\n",
              "    </tr>\n",
              "    <tr>\n",
              "      <th>25%</th>\n",
              "      <td>2.543020e+05</td>\n",
              "      <td>2.800000e+02</td>\n",
              "      <td>2.000000e+00</td>\n",
              "      <td>3.727000e+03</td>\n",
              "      <td>4.050000e+02</td>\n",
              "      <td>1.000000e+00</td>\n",
              "      <td>0.000000e+00</td>\n",
              "      <td>0.000000e+00</td>\n",
              "      <td>2.013000e+03</td>\n",
              "      <td>3.000000e+00</td>\n",
              "      <td>8.000000e+00</td>\n",
              "      <td>7.100000e+02</td>\n",
              "      <td>4.000000</td>\n",
              "      <td>2006.000000</td>\n",
              "      <td>0.000000e+00</td>\n",
              "      <td>13.000000</td>\n",
              "      <td>2011.000000</td>\n",
              "    </tr>\n",
              "    <tr>\n",
              "      <th>50%</th>\n",
              "      <td>5.086040e+05</td>\n",
              "      <td>5.580000e+02</td>\n",
              "      <td>4.000000e+00</td>\n",
              "      <td>5.744000e+03</td>\n",
              "      <td>6.090000e+02</td>\n",
              "      <td>1.000000e+00</td>\n",
              "      <td>0.000000e+00</td>\n",
              "      <td>0.000000e+00</td>\n",
              "      <td>2.014000e+03</td>\n",
              "      <td>6.000000e+00</td>\n",
              "      <td>1.600000e+01</td>\n",
              "      <td>2.325000e+03</td>\n",
              "      <td>8.000000</td>\n",
              "      <td>2010.000000</td>\n",
              "      <td>1.000000e+00</td>\n",
              "      <td>22.000000</td>\n",
              "      <td>2012.000000</td>\n",
              "    </tr>\n",
              "    <tr>\n",
              "      <th>75%</th>\n",
              "      <td>7.629060e+05</td>\n",
              "      <td>8.380000e+02</td>\n",
              "      <td>6.000000e+00</td>\n",
              "      <td>7.856000e+03</td>\n",
              "      <td>8.370000e+02</td>\n",
              "      <td>1.000000e+00</td>\n",
              "      <td>1.000000e+00</td>\n",
              "      <td>0.000000e+00</td>\n",
              "      <td>2.014000e+03</td>\n",
              "      <td>8.000000e+00</td>\n",
              "      <td>2.300000e+01</td>\n",
              "      <td>6.880000e+03</td>\n",
              "      <td>10.000000</td>\n",
              "      <td>2013.000000</td>\n",
              "      <td>1.000000e+00</td>\n",
              "      <td>37.000000</td>\n",
              "      <td>2013.000000</td>\n",
              "    </tr>\n",
              "    <tr>\n",
              "      <th>max</th>\n",
              "      <td>1.017208e+06</td>\n",
              "      <td>1.115000e+03</td>\n",
              "      <td>7.000000e+00</td>\n",
              "      <td>4.155100e+04</td>\n",
              "      <td>7.388000e+03</td>\n",
              "      <td>1.000000e+00</td>\n",
              "      <td>1.000000e+00</td>\n",
              "      <td>1.000000e+00</td>\n",
              "      <td>2.015000e+03</td>\n",
              "      <td>1.200000e+01</td>\n",
              "      <td>3.100000e+01</td>\n",
              "      <td>7.586000e+04</td>\n",
              "      <td>12.000000</td>\n",
              "      <td>2015.000000</td>\n",
              "      <td>1.000000e+00</td>\n",
              "      <td>50.000000</td>\n",
              "      <td>2015.000000</td>\n",
              "    </tr>\n",
              "  </tbody>\n",
              "</table>\n",
              "</div>\n",
              "      <button class=\"colab-df-convert\" onclick=\"convertToInteractive('df-77837ddb-a2f8-45dd-8cc5-b0d2ad1e2f37')\"\n",
              "              title=\"Convert this dataframe to an interactive table.\"\n",
              "              style=\"display:none;\">\n",
              "        \n",
              "  <svg xmlns=\"http://www.w3.org/2000/svg\" height=\"24px\"viewBox=\"0 0 24 24\"\n",
              "       width=\"24px\">\n",
              "    <path d=\"M0 0h24v24H0V0z\" fill=\"none\"/>\n",
              "    <path d=\"M18.56 5.44l.94 2.06.94-2.06 2.06-.94-2.06-.94-.94-2.06-.94 2.06-2.06.94zm-11 1L8.5 8.5l.94-2.06 2.06-.94-2.06-.94L8.5 2.5l-.94 2.06-2.06.94zm10 10l.94 2.06.94-2.06 2.06-.94-2.06-.94-.94-2.06-.94 2.06-2.06.94z\"/><path d=\"M17.41 7.96l-1.37-1.37c-.4-.4-.92-.59-1.43-.59-.52 0-1.04.2-1.43.59L10.3 9.45l-7.72 7.72c-.78.78-.78 2.05 0 2.83L4 21.41c.39.39.9.59 1.41.59.51 0 1.02-.2 1.41-.59l7.78-7.78 2.81-2.81c.8-.78.8-2.07 0-2.86zM5.41 20L4 18.59l7.72-7.72 1.47 1.35L5.41 20z\"/>\n",
              "  </svg>\n",
              "      </button>\n",
              "      \n",
              "  <style>\n",
              "    .colab-df-container {\n",
              "      display:flex;\n",
              "      flex-wrap:wrap;\n",
              "      gap: 12px;\n",
              "    }\n",
              "\n",
              "    .colab-df-convert {\n",
              "      background-color: #E8F0FE;\n",
              "      border: none;\n",
              "      border-radius: 50%;\n",
              "      cursor: pointer;\n",
              "      display: none;\n",
              "      fill: #1967D2;\n",
              "      height: 32px;\n",
              "      padding: 0 0 0 0;\n",
              "      width: 32px;\n",
              "    }\n",
              "\n",
              "    .colab-df-convert:hover {\n",
              "      background-color: #E2EBFA;\n",
              "      box-shadow: 0px 1px 2px rgba(60, 64, 67, 0.3), 0px 1px 3px 1px rgba(60, 64, 67, 0.15);\n",
              "      fill: #174EA6;\n",
              "    }\n",
              "\n",
              "    [theme=dark] .colab-df-convert {\n",
              "      background-color: #3B4455;\n",
              "      fill: #D2E3FC;\n",
              "    }\n",
              "\n",
              "    [theme=dark] .colab-df-convert:hover {\n",
              "      background-color: #434B5C;\n",
              "      box-shadow: 0px 1px 3px 1px rgba(0, 0, 0, 0.15);\n",
              "      filter: drop-shadow(0px 1px 2px rgba(0, 0, 0, 0.3));\n",
              "      fill: #FFFFFF;\n",
              "    }\n",
              "  </style>\n",
              "\n",
              "      <script>\n",
              "        const buttonEl =\n",
              "          document.querySelector('#df-77837ddb-a2f8-45dd-8cc5-b0d2ad1e2f37 button.colab-df-convert');\n",
              "        buttonEl.style.display =\n",
              "          google.colab.kernel.accessAllowed ? 'block' : 'none';\n",
              "\n",
              "        async function convertToInteractive(key) {\n",
              "          const element = document.querySelector('#df-77837ddb-a2f8-45dd-8cc5-b0d2ad1e2f37');\n",
              "          const dataTable =\n",
              "            await google.colab.kernel.invokeFunction('convertToInteractive',\n",
              "                                                     [key], {});\n",
              "          if (!dataTable) return;\n",
              "\n",
              "          const docLinkHtml = 'Like what you see? Visit the ' +\n",
              "            '<a target=\"_blank\" href=https://colab.research.google.com/notebooks/data_table.ipynb>data table notebook</a>'\n",
              "            + ' to learn more about interactive tables.';\n",
              "          element.innerHTML = '';\n",
              "          dataTable['output_type'] = 'display_data';\n",
              "          await google.colab.output.renderOutput(dataTable, element);\n",
              "          const docLink = document.createElement('div');\n",
              "          docLink.innerHTML = docLinkHtml;\n",
              "          element.appendChild(docLink);\n",
              "        }\n",
              "      </script>\n",
              "    </div>\n",
              "  </div>\n",
              "  "
            ]
          },
          "metadata": {},
          "execution_count": 21
        }
      ]
    },
    {
      "cell_type": "markdown",
      "source": [
        "Here, we can see a crucial detail in the data. We can observe sales=0 as the minimum number of sales, this indicates that there are stores which might just have opened or started. Although dropping this data does not make sense as there can be days when the store is not open, so the sales are recorded as zero.\n",
        "\n",
        "Let us refrain from dropping those records for now.\n",
        " "
      ],
      "metadata": {
        "id": "qRl9e8YVc9pY"
      }
    },
    {
      "cell_type": "markdown",
      "source": [
        "Now that we have the data in a fairly good shape and form, let us understand the correlation between the features. This will help us in feature selection for Machine Learning as well as in Exploratory Data Analysis."
      ],
      "metadata": {
        "id": "rrizIOfQDX-1"
      }
    },
    {
      "cell_type": "code",
      "source": [
        "#Creating a correlation matrix \n",
        "cordata=dataset[['Store', 'DayOfWeek', 'Date', 'Sales', 'Customers', 'Open',\n",
        "       'Promo', 'StateHoliday', 'SchoolHoliday', 'Year', 'Month', 'Day',\n",
        "       'StoreType', 'Assortment', 'CompetitionDistance',\n",
        "       'CompetitionOpenSinceMonth', 'CompetitionOpenSinceYear', 'Promo2',\n",
        "       'Promo2SinceWeek', 'Promo2SinceYear', 'PromoInterval']]\n",
        "corr = cordata.corr()\n",
        "fig= plt.subplots(figsize=(10, 10))\n",
        "sns.heatmap(corr, cmap=\"Blues\", annot=False)"
      ],
      "metadata": {
        "colab": {
          "base_uri": "https://localhost:8080/",
          "height": 748
        },
        "id": "GZKThacD7qDQ",
        "outputId": "fb00b303-9469-4f6a-815d-c62c8c25470e"
      },
      "execution_count": 22,
      "outputs": [
        {
          "output_type": "execute_result",
          "data": {
            "text/plain": [
              "<matplotlib.axes._subplots.AxesSubplot at 0x7f7f241bd310>"
            ]
          },
          "metadata": {},
          "execution_count": 22
        },
        {
          "output_type": "display_data",
          "data": {
            "text/plain": [
              "<Figure size 720x720 with 2 Axes>"
            ],
            "image/png": "[encoded data removed]"
          },
          "metadata": {
            "needs_background": "light"
          }
        }
      ]
    },
    {
      "cell_type": "markdown",
      "source": [
        "**Findings: Here we dont see much multicollinearity in the dataset, so we will be skipping the VIF analysis.**\n",
        "\n",
        "Let us understand the correlation of all the features with out target variable (**SALES**) in a more clear way."
      ],
      "metadata": {
        "id": "Ih3RT16GNMKB"
      }
    },
    {
      "cell_type": "code",
      "source": [
        "# Getting correlation details w.r.t Sales.\n",
        "correlations = dataset.corr()['Sales'].sort_values()\n",
        "correlations"
      ],
      "metadata": {
        "colab": {
          "base_uri": "https://localhost:8080/"
        },
        "id": "EXOaktfq87am",
        "outputId": "c2c15d1e-a0ec-4e47-8caf-10b956b8d3ff"
      },
      "execution_count": 23,
      "outputs": [
        {
          "output_type": "execute_result",
          "data": {
            "text/plain": [
              "DayOfWeek                   -0.462125\n",
              "Promo2                      -0.091040\n",
              "index                       -0.041906\n",
              "CompetitionOpenSinceMonth   -0.028257\n",
              "Promo2SinceYear             -0.021127\n",
              "CompetitionDistance         -0.018869\n",
              "Day                         -0.011612\n",
              "Store                        0.005126\n",
              "CompetitionOpenSinceYear     0.012659\n",
              "Year                         0.023519\n",
              "Month                        0.048768\n",
              "Promo2SinceWeek              0.059558\n",
              "SchoolHoliday                0.085124\n",
              "Promo                        0.452345\n",
              "Open                         0.678472\n",
              "Customers                    0.894711\n",
              "Sales                        1.000000\n",
              "Name: Sales, dtype: float64"
            ]
          },
          "metadata": {},
          "execution_count": 23
        }
      ]
    },
    {
      "cell_type": "markdown",
      "source": [
        "**Observations:**\n",
        "\n",
        "* Here we can see some clear correlations between sales and some other features. These features are Customers, Open, Promo, SchoolHoliday. All the above mentioned features share a positive relation with Sales. \n",
        "\n",
        "* There are a few features, which show a negative relation with Sales viz. Promo2 and DayofWeek. We shall inspect them in the upcoming analysis."
      ],
      "metadata": {
        "id": "LEkRp0FKdeF7"
      }
    },
    {
      "cell_type": "markdown",
      "source": [
        "***As per ISO 8601 Monday should be the first day of the week. In US, Canada and Japan, Monday is considered as the second day. The present data follows ISO standards as the first date 15-7-31 in the table represents the 5th day i.e. Friday.***"
      ],
      "metadata": {
        "id": "6yA-VZDpuFGo"
      }
    },
    {
      "cell_type": "markdown",
      "source": [
        "# **Exploratory Data Analysis**"
      ],
      "metadata": {
        "id": "LOCNntwgCn5a"
      }
    },
    {
      "cell_type": "markdown",
      "source": [
        "**1. CUSTOMERS VS SALES:**"
      ],
      "metadata": {
        "id": "-HHRFx6MrDSF"
      }
    },
    {
      "cell_type": "code",
      "source": [
        "# Plotting Customer vs Sales by taking mean of sales.\n",
        "plt.subplots(figsize=(15,6))\n",
        "cus = rs_data.groupby('Customers').Sales.mean().to_frame().reset_index()\n",
        "cus.columns = ['Customers','Sales']\n",
        "sns.barplot(x=cus.Customers, y=cus.Sales, palette='RdYlGn_r',edgecolor=sns.color_palette('dark',10))\n",
        "plt.title('Sales vs Customers')\n",
        "plt.show()  "
      ],
      "metadata": {
        "colab": {
          "base_uri": "https://localhost:8080/",
          "height": 404
        },
        "id": "J8nLCwL23Nxm",
        "outputId": "837de1bb-7452-4091-843b-38c8d0d8ef3e"
      },
      "execution_count": 24,
      "outputs": [
        {
          "output_type": "display_data",
          "data": {
            "text/plain": [
              "<Figure size 1080x432 with 1 Axes>"
            ],
            "image/png": "[encoded data removed]"
          },
          "metadata": {
            "needs_background": "light"
          }
        }
      ]
    },
    {
      "cell_type": "markdown",
      "source": [
        "**Findings:**\n",
        "\n",
        "* It is easy to spot that the graph shows a positive growth in the overall trend. As the number of customers increase, the number of sales also increase.\n",
        "\n",
        "---\n",
        "* We can observe another pattern in the graph as the number of customers increase. We can see a bit of distortion or uneven number of sales while the customers are increasing in number. This can be due to the price of the products being sold in the store. We will be able to verify this hypothesis while studying the promo features.\n",
        "\n",
        "\n",
        "---\n",
        "\n",
        "\n",
        "* This can be our null hypothesis:\n",
        "\n",
        "\n",
        "**H0 = Sales of the products are higher with a promotional offer.**\n"
      ],
      "metadata": {
        "id": "smtIjQlQKPjv"
      }
    },
    {
      "cell_type": "markdown",
      "source": [
        "**2. PROMO VS SALES & PROMO VS CUSTOMERS :**"
      ],
      "metadata": {
        "id": "jqZwrLLfPFMx"
      }
    },
    {
      "cell_type": "code",
      "source": [
        "# Plotting Promo vs sales\n",
        "plt.subplots(figsize=(15,6))\n",
        "sns.barplot(x='Promo', y='Sales', data=rs_data)"
      ],
      "metadata": {
        "colab": {
          "base_uri": "https://localhost:8080/",
          "height": 406
        },
        "id": "we1oPABdNrOV",
        "outputId": "ef5a391c-1b25-4899-f7c6-215e800cfbd2"
      },
      "execution_count": 25,
      "outputs": [
        {
          "output_type": "execute_result",
          "data": {
            "text/plain": [
              "<matplotlib.axes._subplots.AxesSubplot at 0x7f7f1e287350>"
            ]
          },
          "metadata": {},
          "execution_count": 25
        },
        {
          "output_type": "display_data",
          "data": {
            "text/plain": [
              "<Figure size 1080x432 with 1 Axes>"
            ],
            "image/png": "[encoded data removed]"
          },
          "metadata": {
            "needs_background": "light"
          }
        }
      ]
    },
    {
      "cell_type": "code",
      "source": [
        "# Plotting Promo vs Customers\n",
        "plt.subplots(figsize=(15,6))\n",
        "sns.barplot(x='Promo', y='Customers', data=rs_data)"
      ],
      "metadata": {
        "colab": {
          "base_uri": "https://localhost:8080/",
          "height": 406
        },
        "id": "yvil9KYgPfub",
        "outputId": "2881a7a3-9537-4884-f43f-518a6594fc72"
      },
      "execution_count": 26,
      "outputs": [
        {
          "output_type": "execute_result",
          "data": {
            "text/plain": [
              "<matplotlib.axes._subplots.AxesSubplot at 0x7f7f1db8d190>"
            ]
          },
          "metadata": {},
          "execution_count": 26
        },
        {
          "output_type": "display_data",
          "data": {
            "text/plain": [
              "<Figure size 1080x432 with 1 Axes>"
            ],
            "image/png": "[encoded data removed]"
          },
          "metadata": {
            "needs_background": "light"
          }
        }
      ]
    },
    {
      "cell_type": "markdown",
      "source": [
        "**Findings**:\n",
        "\n",
        "* We can see that both, 'Customers' and 'Sales' show a higher number when the promotional offer is active. Hence, we **Failed to Reject the Hypothesis** for now.\n",
        "\n",
        "* Let us understand the realtion between the second promotional offer (Promo2) that was active, and check if the above relation holds up."
      ],
      "metadata": {
        "id": "G8UJxfc6Sm9Y"
      }
    },
    {
      "cell_type": "markdown",
      "source": [
        "**3. PROMO2 VS SALES & PROMO2 VS CUSTOMERS :**"
      ],
      "metadata": {
        "id": "7e9GkWomPwgN"
      }
    },
    {
      "cell_type": "code",
      "source": [
        "# Plotting Promo2 vs Sales and Promo2 vs Customers.\n",
        "fig, (axis1,axis2) = plt.subplots(1,2,figsize=(15,6))\n",
        "sns.barplot(x='Promo2', y='Sales', data=dataset, ax=axis1)\n",
        "sns.barplot(x='Promo2', y='Customers', data=dataset, ax=axis2)"
      ],
      "metadata": {
        "colab": {
          "base_uri": "https://localhost:8080/",
          "height": 406
        },
        "id": "keCaPtCBTqh-",
        "outputId": "d22dc8d0-8c1b-4815-9db4-ba402dd54e46"
      },
      "execution_count": 27,
      "outputs": [
        {
          "output_type": "execute_result",
          "data": {
            "text/plain": [
              "<matplotlib.axes._subplots.AxesSubplot at 0x7f7f1da21e10>"
            ]
          },
          "metadata": {},
          "execution_count": 27
        },
        {
          "output_type": "display_data",
          "data": {
            "text/plain": [
              "<Figure size 1080x432 with 2 Axes>"
            ],
            "image/png": "[encoded data removed]"
          },
          "metadata": {
            "needs_background": "light"
          }
        }
      ]
    },
    {
      "cell_type": "markdown",
      "source": [
        "**Findings** :\n",
        "\n",
        "*  Here we can see that both customers and sales value are marginally lower with the promotional offer (Promo2) active.\n",
        "\n",
        "*  Here we can safelty **reject the null hypothesis** that says, Sales are Higher with a active promotional offer. Perhaps there are more factors affecting the sales."
      ],
      "metadata": {
        "id": "pDRSD6FAVOHZ"
      }
    },
    {
      "cell_type": "markdown",
      "source": [
        "Now let us move towards the shops' operation time.\n",
        "\n",
        "**4. No. of SHOPS OPEN vs WEEKDAYS :** "
      ],
      "metadata": {
        "id": "-sZ8x87WQf3z"
      }
    },
    {
      "cell_type": "code",
      "source": [
        "# Getting a summary of operational days of shops.\n",
        "plt.subplots(figsize=(15,6))\n",
        "sns.countplot(x='Open',hue='DayOfWeek', data=dataset,palette=\"husl\")"
      ],
      "metadata": {
        "id": "0MZvep980ZjL",
        "colab": {
          "base_uri": "https://localhost:8080/",
          "height": 406
        },
        "outputId": "effbfb4d-c0e9-4400-d055-3c5d27d70525"
      },
      "execution_count": 28,
      "outputs": [
        {
          "output_type": "execute_result",
          "data": {
            "text/plain": [
              "<matplotlib.axes._subplots.AxesSubplot at 0x7f7f17ef89d0>"
            ]
          },
          "metadata": {},
          "execution_count": 28
        },
        {
          "output_type": "display_data",
          "data": {
            "text/plain": [
              "<Figure size 1080x432 with 1 Axes>"
            ],
            "image/png": "[encoded data removed]"
          },
          "metadata": {
            "needs_background": "light"
          }
        }
      ]
    },
    {
      "cell_type": "markdown",
      "source": [
        "**Findings:**\n",
        "\n",
        "* We can observe that most of the shops are open on the weekdays and closed on Sundays.\n",
        "* The little amount of shops that are closed on the weekdays might be due to the mentioned fact that, they are under refurbishment phase.\n",
        "\n",
        "---\n",
        "\n"
      ],
      "metadata": {
        "id": "DSvyHDlTef1l"
      }
    },
    {
      "cell_type": "markdown",
      "source": [
        "School Holidays are also a feature showing a significant positive relation with Sales of the stores. We shall find out what is affecting the sales here.\n",
        "\n",
        "\n",
        "\n",
        "**5. No. of Shops Affected by School Holiday vs School Holidays :**"
      ],
      "metadata": {
        "id": "_5kNZc1-RMsg"
      }
    },
    {
      "cell_type": "code",
      "source": [
        "# Analysing the effects of School Holiday on Stores.\n",
        "plt.subplots(figsize=(15,6))\n",
        "sns.countplot(x='SchoolHoliday',hue='DayOfWeek', data=dataset,palette=\"husl\")"
      ],
      "metadata": {
        "colab": {
          "base_uri": "https://localhost:8080/",
          "height": 406
        },
        "id": "1N6hiaoFe-jQ",
        "outputId": "3c725117-fdb3-4e61-c0cb-cd3ee352b829"
      },
      "execution_count": 29,
      "outputs": [
        {
          "output_type": "execute_result",
          "data": {
            "text/plain": [
              "<matplotlib.axes._subplots.AxesSubplot at 0x7f7f17a34050>"
            ]
          },
          "metadata": {},
          "execution_count": 29
        },
        {
          "output_type": "display_data",
          "data": {
            "text/plain": [
              "<Figure size 1080x432 with 1 Axes>"
            ],
            "image/png": "[encoded data removed]"
          },
          "metadata": {
            "needs_background": "light"
          }
        }
      ]
    },
    {
      "cell_type": "markdown",
      "source": [
        "Here, School Holiday shows us if the Store was affected by the closure of the School. **'1'** means the store was affected, while **'0'** means the store was not affected by the closure of the school.\n",
        "\n",
        "\n",
        "**Findings** \n",
        "\n",
        "* Comparing the above two charts we can see that the stores were not much affected on Saturday and Sunday as they we also closed along with the school.\n",
        "\n",
        "* Here we can also see that the stores were affected by the closure of the School on weekdays. It affects less than 1/3rd stores of the whole. \n",
        "\n",
        "* Here a positive correlation means, the sales of the stores should increase if the Schools are closed."
      ],
      "metadata": {
        "id": "mTS7-f_2j05O"
      }
    },
    {
      "cell_type": "markdown",
      "source": [
        "**6. SCHOOL HOLIDAY VS SALES :**"
      ],
      "metadata": {
        "id": "DQqRpGusTDfF"
      }
    },
    {
      "cell_type": "code",
      "source": [
        "# Plot for getting the Sales vs School Holiday graph.\n",
        "plt.subplots(figsize=(15,6))\n",
        "cus = rs_data.groupby('SchoolHoliday').Sales.mean().to_frame().reset_index()\n",
        "cus.columns = ['SchoolHoliday','Sales']\n",
        "sns.barplot(x=cus.SchoolHoliday, y=cus.Sales, palette='RdYlGn_r',edgecolor=sns.color_palette('dark',10))\n",
        "plt.title('School Holiday vs Sales')\n",
        "plt.show()  "
      ],
      "metadata": {
        "colab": {
          "base_uri": "https://localhost:8080/",
          "height": 404
        },
        "id": "xDtzs4BOgs6G",
        "outputId": "c16defeb-0309-4adc-ab73-12055a25a744"
      },
      "execution_count": 30,
      "outputs": [
        {
          "output_type": "display_data",
          "data": {
            "text/plain": [
              "<Figure size 1080x432 with 1 Axes>"
            ],
            "image/png": "[encoded data removed]"
          },
          "metadata": {
            "needs_background": "light"
          }
        }
      ]
    },
    {
      "cell_type": "markdown",
      "source": [
        "**Findings** \n",
        "\n",
        "* When the stores are affected due to school holidays, we see a higher sales number. This might be due to the weekend, when people come out for shopping and refilling their essentials.\n",
        "\n",
        "* Here we can say that School Holidays and Sales are positively related in some sense.\n",
        "\n",
        "---\n",
        "\n"
      ],
      "metadata": {
        "id": "olX6ZEsQrs2C"
      }
    },
    {
      "cell_type": "markdown",
      "source": [
        "Now that we know what are the major factors affecting the sales of the stores, let us understand the types of stores and their significance."
      ],
      "metadata": {
        "id": "Q2hztYGUS1YG"
      }
    },
    {
      "cell_type": "markdown",
      "source": [
        "**7. STORETYPES VS NO. OF STORES :**"
      ],
      "metadata": {
        "id": "T7iifNDcTV6p"
      }
    },
    {
      "cell_type": "code",
      "source": [
        "# Plot to understand the number of stores of each type present.\n",
        "plt.subplots(figsize=(15,6))\n",
        "sns.countplot(x='StoreType', data=dataset, order=['a','b','c', 'd'])"
      ],
      "metadata": {
        "colab": {
          "base_uri": "https://localhost:8080/",
          "height": 406
        },
        "id": "GiCWbUo2pAwz",
        "outputId": "30d0cc06-fdfa-4604-f74a-a397f764394e"
      },
      "execution_count": 31,
      "outputs": [
        {
          "output_type": "execute_result",
          "data": {
            "text/plain": [
              "<matplotlib.axes._subplots.AxesSubplot at 0x7f7f17a6f210>"
            ]
          },
          "metadata": {},
          "execution_count": 31
        },
        {
          "output_type": "display_data",
          "data": {
            "text/plain": [
              "<Figure size 1080x432 with 1 Axes>"
            ],
            "image/png": "[encoded data removed]"
          },
          "metadata": {
            "needs_background": "light"
          }
        }
      ]
    },
    {
      "cell_type": "markdown",
      "source": [
        "We have four types of stores a,b,c and d. We can see there are many outlets for the type 'a' followed by d,c and b respectively. 'b' having the least number of stores."
      ],
      "metadata": {
        "id": "uUYYYQQAIQ62"
      }
    },
    {
      "cell_type": "markdown",
      "source": [
        "**8. STORETYPE VS NO.OF CUSTOMERS :**"
      ],
      "metadata": {
        "id": "wnAxV2yqTqbN"
      }
    },
    {
      "cell_type": "code",
      "source": [
        "# Plotting Relation between Store type and its customers.\n",
        "plt.subplots(figsize=(15,6))\n",
        "sns.barplot(x='StoreType', y='Customers', data=dataset, order=['a','b','c', 'd'])"
      ],
      "metadata": {
        "colab": {
          "base_uri": "https://localhost:8080/",
          "height": 406
        },
        "id": "q6wRU8Ed4iPg",
        "outputId": "b41aef5b-6573-4cda-e4b0-9e7c120c6557"
      },
      "execution_count": 32,
      "outputs": [
        {
          "output_type": "execute_result",
          "data": {
            "text/plain": [
              "<matplotlib.axes._subplots.AxesSubplot at 0x7f7f177a5410>"
            ]
          },
          "metadata": {},
          "execution_count": 32
        },
        {
          "output_type": "display_data",
          "data": {
            "text/plain": [
              "<Figure size 1080x432 with 1 Axes>"
            ],
            "image/png": "[encoded data removed]"
          },
          "metadata": {
            "needs_background": "light"
          }
        }
      ]
    },
    {
      "cell_type": "markdown",
      "source": [
        "The number of customers coming in the store type 'b' are immense as compared to the others. This indicates that either the store type 'b' is a superstore or a wholesale/company outlet. "
      ],
      "metadata": {
        "id": "UOHvPfliJGk3"
      }
    },
    {
      "cell_type": "markdown",
      "source": [
        "**9. STORETYPE VS SALES :**"
      ],
      "metadata": {
        "id": "kfhTIUdGT8WB"
      }
    },
    {
      "cell_type": "code",
      "source": [
        "# Getting the sales numbers for each type of store.\n",
        "plt.subplots(figsize=(15,6))\n",
        "sns.barplot(x='StoreType', y='Sales', data=dataset, order=['a','b','c', 'd'])"
      ],
      "metadata": {
        "colab": {
          "base_uri": "https://localhost:8080/",
          "height": 406
        },
        "id": "_NoGrkXF4e2W",
        "outputId": "f7c4d68e-4d24-454f-b6e1-898da8961321"
      },
      "execution_count": 33,
      "outputs": [
        {
          "output_type": "execute_result",
          "data": {
            "text/plain": [
              "<matplotlib.axes._subplots.AxesSubplot at 0x7f7f2086d790>"
            ]
          },
          "metadata": {},
          "execution_count": 33
        },
        {
          "output_type": "display_data",
          "data": {
            "text/plain": [
              "<Figure size 1080x432 with 1 Axes>"
            ],
            "image/png": "[encoded data removed]"
          },
          "metadata": {
            "needs_background": "light"
          }
        }
      ]
    },
    {
      "cell_type": "markdown",
      "source": [
        "**Findings:** \n",
        "\n",
        "* This above chart is totally opposite to the first one, as it shows the most amount of sales happening from the store 'b' which has the least number of outlets. \n",
        "* This may be a direct company outlet or a superstore of some kind to have so much sales. \n",
        "\n",
        "---\n",
        "\n"
      ],
      "metadata": {
        "id": "GHcWpIMgIpti"
      }
    },
    {
      "cell_type": "markdown",
      "source": [
        "We shall now see the assortment type of the store and its relevant data. This will give us an insight in what type of stores should be opened in new places and which will work more effectively.\n",
        "\n",
        "Assortment Types:\n",
        "\n",
        "**a**:Basic Store\n",
        "\n",
        "**b**:Extra Store\n",
        "\n",
        "**c**:Extended Store"
      ],
      "metadata": {
        "id": "y2t2tFLDJv2M"
      }
    },
    {
      "cell_type": "markdown",
      "source": [
        "**10. ASSORTMENT TYPE VS NO. OF STORES :**"
      ],
      "metadata": {
        "id": "ytoa9sSeVvgq"
      }
    },
    {
      "cell_type": "code",
      "source": [
        "# Finding the number of stores for each assortment type.\n",
        "plt.subplots(figsize=(15,6))\n",
        "sns.countplot(x='Assortment', data=dataset, order=['a','b','c'])"
      ],
      "metadata": {
        "colab": {
          "base_uri": "https://localhost:8080/",
          "height": 406
        },
        "id": "9rSx2AErKHtn",
        "outputId": "38194e10-9ab6-4740-ca22-1b2fdc81ad93"
      },
      "execution_count": 34,
      "outputs": [
        {
          "output_type": "execute_result",
          "data": {
            "text/plain": [
              "<matplotlib.axes._subplots.AxesSubplot at 0x7f7f1dfb1550>"
            ]
          },
          "metadata": {},
          "execution_count": 34
        },
        {
          "output_type": "display_data",
          "data": {
            "text/plain": [
              "<Figure size 1080x432 with 1 Axes>"
            ],
            "image/png": "[encoded data removed]"
          },
          "metadata": {
            "needs_background": "light"
          }
        }
      ]
    },
    {
      "cell_type": "markdown",
      "source": [
        "**Findings:**\n",
        "\n",
        "* Basic Stores i.e. Assortment type 'a' have the most number of outlets. It makes sense by business point of view to have the essentials widely available.\n",
        "\n",
        "* The Extra Stores i.e. Assortment type 'b' have the least number of outlets. Extra stuff cannot be made available on each basic store as it will take up inventory space and might not even sell with high frequency.\n",
        "\n",
        "* Extended Stores i.e. Assortment type 'c' have the second highest number of outlets."
      ],
      "metadata": {
        "id": "pSvV6dSdLNfT"
      }
    },
    {
      "cell_type": "markdown",
      "source": [
        "**11. ASSORTMENT TYPE VS CUSTOMERS :**"
      ],
      "metadata": {
        "id": "GNAK-xfBWUm3"
      }
    },
    {
      "cell_type": "code",
      "source": [
        "# Plot for Assortment type vs no. of customers.\n",
        "plt.subplots(figsize=(15,6))\n",
        "sns.barplot(x='Assortment', y='Customers', data=dataset, order=['a','b','c'])"
      ],
      "metadata": {
        "colab": {
          "base_uri": "https://localhost:8080/",
          "height": 406
        },
        "id": "o13_NaNwKPIZ",
        "outputId": "5bb22049-64d1-47fa-ece1-44fd61097ff0"
      },
      "execution_count": 35,
      "outputs": [
        {
          "output_type": "execute_result",
          "data": {
            "text/plain": [
              "<matplotlib.axes._subplots.AxesSubplot at 0x7f7f1e492b50>"
            ]
          },
          "metadata": {},
          "execution_count": 35
        },
        {
          "output_type": "display_data",
          "data": {
            "text/plain": [
              "<Figure size 1080x432 with 1 Axes>"
            ],
            "image/png": "[encoded data removed]"
          },
          "metadata": {
            "needs_background": "light"
          }
        }
      ]
    },
    {
      "cell_type": "markdown",
      "source": [
        "**Assumption :**\n",
        "\n",
        "* Assortment type 'b' i.e. Extra, is attracting the most number of customers in the shops. This probably might be due to the availability of everything in one stop."
      ],
      "metadata": {
        "id": "G6qILGR3NEc3"
      }
    },
    {
      "cell_type": "markdown",
      "source": [
        "**12. ASSORTMENT TYPE VS SALES :**"
      ],
      "metadata": {
        "id": "nW3FoSjFWvrJ"
      }
    },
    {
      "cell_type": "code",
      "source": [
        "# Plot for Sales vs Assortment Type.\n",
        "plt.subplots(figsize=(15,6))\n",
        "sns.barplot(x='Assortment', y='Sales', data=dataset, order=['a','b','c'])\n"
      ],
      "metadata": {
        "colab": {
          "base_uri": "https://localhost:8080/",
          "height": 406
        },
        "id": "d0Yy_TsWKL5S",
        "outputId": "87b89aaa-50ca-43ca-b8e1-c0481b79f3ab"
      },
      "execution_count": 36,
      "outputs": [
        {
          "output_type": "execute_result",
          "data": {
            "text/plain": [
              "<matplotlib.axes._subplots.AxesSubplot at 0x7f7f1db58ad0>"
            ]
          },
          "metadata": {},
          "execution_count": 36
        },
        {
          "output_type": "display_data",
          "data": {
            "text/plain": [
              "<Figure size 1080x432 with 1 Axes>"
            ],
            "image/png": "[encoded data removed]"
          },
          "metadata": {
            "needs_background": "light"
          }
        }
      ]
    },
    {
      "cell_type": "markdown",
      "source": [
        "**Findings:**\n",
        "\n",
        "* The sales chart follows the path of customer vs assortment chart as above. \n",
        "\n",
        "* There is an interesting thing that we can observe here. The sales to customers ratio of assortment type 'a' and 'c' is significantly higher as compared to assortment type 'b'. \n",
        "\n",
        "* Same customers with high frequency of sales is what assortment 'a' and 'c' seem to be targeting."
      ],
      "metadata": {
        "id": "twC36wTbNZdH"
      }
    },
    {
      "cell_type": "markdown",
      "source": [
        "\n",
        "\n",
        "---\n",
        "\n",
        "We now, need to understand the relation between the Competetion distance and Sales of the stores, as it also showed some positive correlation in the previous analysis."
      ],
      "metadata": {
        "id": "nc1xKySgXKp-"
      }
    },
    {
      "cell_type": "markdown",
      "source": [
        "**13. COMPETETION DISTANCE VS SALES :**"
      ],
      "metadata": {
        "id": "6IHvZE6hXXZl"
      }
    },
    {
      "cell_type": "code",
      "source": [
        "# Understanding the relation between competetion distance and sales.\n",
        "dataset.plot(kind='hist',x='CompetitionDistance',y='Sales',figsize=(15,6))"
      ],
      "metadata": {
        "colab": {
          "base_uri": "https://localhost:8080/",
          "height": 391
        },
        "id": "zQ96GP21SrAc",
        "outputId": "bafd0885-15ec-4bb7-d48c-c111c5396ea8"
      },
      "execution_count": 37,
      "outputs": [
        {
          "output_type": "execute_result",
          "data": {
            "text/plain": [
              "<matplotlib.axes._subplots.AxesSubplot at 0x7f7f1f032490>"
            ]
          },
          "metadata": {},
          "execution_count": 37
        },
        {
          "output_type": "display_data",
          "data": {
            "text/plain": [
              "<Figure size 1080x432 with 1 Axes>"
            ],
            "image/png": "[encoded data removed]"
          },
          "metadata": {
            "needs_background": "light"
          }
        }
      ]
    },
    {
      "cell_type": "markdown",
      "source": [
        "**Findings:**\n",
        "\n",
        "* Looking at the histogram we can understand that the distance between competetion matters. Here the relation is not linear. As the distance between stores/competetions increases, the sales happen to increase, but this changes post 8000m mark. \n",
        "* Distances higher than 10000 show a decline in the sales, this may be indicating the stores located in the remote areas with less population."
      ],
      "metadata": {
        "id": "vh3pSTWGUikG"
      }
    },
    {
      "cell_type": "markdown",
      "source": [
        "Let us see, how the distribution of the Sales and Customers is."
      ],
      "metadata": {
        "id": "qYiK-66nWOLm"
      }
    },
    {
      "cell_type": "markdown",
      "source": [
        "**14. SALES AND CUSTOMER DISTRIBUTION :**"
      ],
      "metadata": {
        "id": "32dKfLx_XtXu"
      }
    },
    {
      "cell_type": "code",
      "source": [
        "# Plotting Box Plots to get the distribution of Sales and Customers.\n",
        "fig, (axis1,axis2) = plt.subplots(1,2,figsize=(15,6))\n",
        "sns.boxplot(x= rs_data[\"Sales\"],ax=axis1)\n",
        "sns.boxplot(x= rs_data[\"Customers\"],ax=axis2)"
      ],
      "metadata": {
        "colab": {
          "base_uri": "https://localhost:8080/",
          "height": 406
        },
        "id": "bq0MqBrKVnC7",
        "outputId": "02d677a9-d4a2-45b5-dff9-f32f84f170a7"
      },
      "execution_count": 38,
      "outputs": [
        {
          "output_type": "execute_result",
          "data": {
            "text/plain": [
              "<matplotlib.axes._subplots.AxesSubplot at 0x7f7f209a4550>"
            ]
          },
          "metadata": {},
          "execution_count": 38
        },
        {
          "output_type": "display_data",
          "data": {
            "text/plain": [
              "<Figure size 1080x432 with 2 Axes>"
            ],
            "image/png": "[encoded data removed]"
          },
          "metadata": {
            "needs_background": "light"
          }
        }
      ]
    },
    {
      "cell_type": "markdown",
      "source": [
        "# **Findings:**\n",
        "1.   There is an obvious and major correlation between sales and customers, which suggests that the customers tend to buy something or the other before leaving the store. There are some undulations with higher number of customers vs sales.\n",
        "2.   The undulations in the higher number of customers vs sales are not due to price of the products, which we figured out by Hypothesis testing. We tried to understand the relation of Sales with Promo and Promo2.\n",
        "\n"
      ],
      "metadata": {
        "id": "bqOx5-BYcFtv"
      }
    },
    {
      "cell_type": "markdown",
      "source": [
        "# **Feature Engineering:**\n",
        "\n",
        "* From the above EDA we understood the correlation between various features and Sales.\n",
        "*  Now in order to train a ML model, we will be needing numerical values.\n",
        "* We will be dropping some features which did not show much correlation with Sales and creating dummies with categorical features."
      ],
      "metadata": {
        "id": "xz50LvbIXDlK"
      }
    },
    {
      "cell_type": "code",
      "source": [
        "dataset.info()"
      ],
      "metadata": {
        "colab": {
          "base_uri": "https://localhost:8080/"
        },
        "id": "olPJ2LaBXsdu",
        "outputId": "33d66b49-2a5a-4b14-c1a3-a05cdf152130"
      },
      "execution_count": 39,
      "outputs": [
        {
          "output_type": "stream",
          "name": "stdout",
          "text": [
            "<class 'pandas.core.frame.DataFrame'>\n",
            "Int64Index: 1017209 entries, 0 to 1017208\n",
            "Data columns (total 22 columns):\n",
            " #   Column                     Non-Null Count    Dtype  \n",
            "---  ------                     --------------    -----  \n",
            " 0   index                      1017209 non-null  int64  \n",
            " 1   Store                      1017209 non-null  int64  \n",
            " 2   DayOfWeek                  1017209 non-null  int64  \n",
            " 3   Date                       1017209 non-null  object \n",
            " 4   Sales                      1017209 non-null  int64  \n",
            " 5   Customers                  1017209 non-null  int64  \n",
            " 6   Open                       1017209 non-null  int64  \n",
            " 7   Promo                      1017209 non-null  int64  \n",
            " 8   StateHoliday               1017209 non-null  object \n",
            " 9   SchoolHoliday              1017209 non-null  int64  \n",
            " 10  Year                       1017209 non-null  int64  \n",
            " 11  Month                      1017209 non-null  int64  \n",
            " 12  Day                        1017209 non-null  int64  \n",
            " 13  StoreType                  1017209 non-null  object \n",
            " 14  Assortment                 1017209 non-null  object \n",
            " 15  CompetitionDistance        1017209 non-null  float64\n",
            " 16  CompetitionOpenSinceMonth  693861 non-null   float64\n",
            " 17  CompetitionOpenSinceYear   693861 non-null   float64\n",
            " 18  Promo2                     1017209 non-null  int64  \n",
            " 19  Promo2SinceWeek            509178 non-null   float64\n",
            " 20  Promo2SinceYear            509178 non-null   float64\n",
            " 21  PromoInterval              509178 non-null   object \n",
            "dtypes: float64(5), int64(12), object(5)\n",
            "memory usage: 178.5+ MB\n"
          ]
        }
      ]
    },
    {
      "cell_type": "code",
      "source": [
        "dataset.columns"
      ],
      "metadata": {
        "colab": {
          "base_uri": "https://localhost:8080/"
        },
        "id": "kQm8xXQJX6dY",
        "outputId": "cbe3d49a-54b1-426c-cdf3-887c93c7885f"
      },
      "execution_count": 40,
      "outputs": [
        {
          "output_type": "execute_result",
          "data": {
            "text/plain": [
              "Index(['index', 'Store', 'DayOfWeek', 'Date', 'Sales', 'Customers', 'Open',\n",
              "       'Promo', 'StateHoliday', 'SchoolHoliday', 'Year', 'Month', 'Day',\n",
              "       'StoreType', 'Assortment', 'CompetitionDistance',\n",
              "       'CompetitionOpenSinceMonth', 'CompetitionOpenSinceYear', 'Promo2',\n",
              "       'Promo2SinceWeek', 'Promo2SinceYear', 'PromoInterval'],\n",
              "      dtype='object')"
            ]
          },
          "metadata": {},
          "execution_count": 40
        }
      ]
    },
    {
      "cell_type": "code",
      "source": [
        "# Dropping the features/ columns which do not have much positive or negative correlation with the target feature.\n",
        "dataset=dataset.drop(['index', 'Store','Date','CompetitionOpenSinceMonth', 'CompetitionOpenSinceYear','Promo2SinceWeek','Promo2SinceYear', 'PromoInterval'], axis=1)"
      ],
      "metadata": {
        "id": "ZgDbD1ORXuMd"
      },
      "execution_count": 41,
      "outputs": []
    },
    {
      "cell_type": "code",
      "source": [
        "dataset.info()"
      ],
      "metadata": {
        "colab": {
          "base_uri": "https://localhost:8080/"
        },
        "id": "aV1M-xzgZq2v",
        "outputId": "350ce410-53ea-43d0-d1ab-4562c4f0d006"
      },
      "execution_count": 42,
      "outputs": [
        {
          "output_type": "stream",
          "name": "stdout",
          "text": [
            "<class 'pandas.core.frame.DataFrame'>\n",
            "Int64Index: 1017209 entries, 0 to 1017208\n",
            "Data columns (total 14 columns):\n",
            " #   Column               Non-Null Count    Dtype  \n",
            "---  ------               --------------    -----  \n",
            " 0   DayOfWeek            1017209 non-null  int64  \n",
            " 1   Sales                1017209 non-null  int64  \n",
            " 2   Customers            1017209 non-null  int64  \n",
            " 3   Open                 1017209 non-null  int64  \n",
            " 4   Promo                1017209 non-null  int64  \n",
            " 5   StateHoliday         1017209 non-null  object \n",
            " 6   SchoolHoliday        1017209 non-null  int64  \n",
            " 7   Year                 1017209 non-null  int64  \n",
            " 8   Month                1017209 non-null  int64  \n",
            " 9   Day                  1017209 non-null  int64  \n",
            " 10  StoreType            1017209 non-null  object \n",
            " 11  Assortment           1017209 non-null  object \n",
            " 12  CompetitionDistance  1017209 non-null  float64\n",
            " 13  Promo2               1017209 non-null  int64  \n",
            "dtypes: float64(1), int64(10), object(3)\n",
            "memory usage: 116.4+ MB\n"
          ]
        }
      ]
    },
    {
      "cell_type": "markdown",
      "source": [
        "* ***StateHoliday feature has categorical features a,b,c and a numerical feature 0. Let us convert all of them in the same type.***"
      ],
      "metadata": {
        "id": "k4QalVlg6F6G"
      }
    },
    {
      "cell_type": "code",
      "source": [
        "# Here we only need to know if there is a State Holiday or not, so we are mapping them to 0 and 1.\n",
        "dataset['StateHoliday'] = dataset.StateHoliday.map({np.nan: 0 ,0: 0,'0':0, 'a':1 ,'b' : 1,'c': 1})"
      ],
      "metadata": {
        "id": "XH5FmItTZ5gh"
      },
      "execution_count": 43,
      "outputs": []
    },
    {
      "cell_type": "code",
      "source": [
        "dataset.info()"
      ],
      "metadata": {
        "colab": {
          "base_uri": "https://localhost:8080/"
        },
        "id": "-klOlYWE61C8",
        "outputId": "6467f3af-d4be-466b-b4ca-68a9704c7116"
      },
      "execution_count": 44,
      "outputs": [
        {
          "output_type": "stream",
          "name": "stdout",
          "text": [
            "<class 'pandas.core.frame.DataFrame'>\n",
            "Int64Index: 1017209 entries, 0 to 1017208\n",
            "Data columns (total 14 columns):\n",
            " #   Column               Non-Null Count    Dtype  \n",
            "---  ------               --------------    -----  \n",
            " 0   DayOfWeek            1017209 non-null  int64  \n",
            " 1   Sales                1017209 non-null  int64  \n",
            " 2   Customers            1017209 non-null  int64  \n",
            " 3   Open                 1017209 non-null  int64  \n",
            " 4   Promo                1017209 non-null  int64  \n",
            " 5   StateHoliday         1017209 non-null  int64  \n",
            " 6   SchoolHoliday        1017209 non-null  int64  \n",
            " 7   Year                 1017209 non-null  int64  \n",
            " 8   Month                1017209 non-null  int64  \n",
            " 9   Day                  1017209 non-null  int64  \n",
            " 10  StoreType            1017209 non-null  object \n",
            " 11  Assortment           1017209 non-null  object \n",
            " 12  CompetitionDistance  1017209 non-null  float64\n",
            " 13  Promo2               1017209 non-null  int64  \n",
            "dtypes: float64(1), int64(11), object(2)\n",
            "memory usage: 116.4+ MB\n"
          ]
        }
      ]
    },
    {
      "cell_type": "code",
      "source": [
        "# Removing Store data with zero sales\n",
        "dataset=dataset[dataset.Sales != 0]"
      ],
      "metadata": {
        "id": "zeLMGtC68rMq"
      },
      "execution_count": 45,
      "outputs": []
    },
    {
      "cell_type": "code",
      "source": [
        "# Getting dummies for some categorical columns\n",
        "dataset = pd.get_dummies(dataset,columns=['StoreType','Assortment','Year'])"
      ],
      "metadata": {
        "id": "nQppICJf8404"
      },
      "execution_count": 46,
      "outputs": []
    },
    {
      "cell_type": "code",
      "source": [
        "dataset.head()"
      ],
      "metadata": {
        "colab": {
          "base_uri": "https://localhost:8080/",
          "height": 270
        },
        "id": "51aphyTxCy8r",
        "outputId": "f72f23fd-cc8d-4785-d26c-ff72bf31a7c1"
      },
      "execution_count": 47,
      "outputs": [
        {
          "output_type": "execute_result",
          "data": {
            "text/plain": [
              "   DayOfWeek  Sales  Customers  Open  Promo  StateHoliday  SchoolHoliday  \\\n",
              "0          5   5263        555     1      1             0              1   \n",
              "1          5   6064        625     1      1             0              1   \n",
              "2          5   8314        821     1      1             0              1   \n",
              "3          5  13995       1498     1      1             0              1   \n",
              "4          5   4822        559     1      1             0              1   \n",
              "\n",
              "   Month  Day  CompetitionDistance  Promo2  StoreType_a  StoreType_b  \\\n",
              "0      7   31               1270.0       0            0            0   \n",
              "1      7   31                570.0       1            1            0   \n",
              "2      7   31              14130.0       1            1            0   \n",
              "3      7   31                620.0       0            0            0   \n",
              "4      7   31              29910.0       0            1            0   \n",
              "\n",
              "   StoreType_c  StoreType_d  Assortment_a  Assortment_b  Assortment_c  \\\n",
              "0            1            0             1             0             0   \n",
              "1            0            0             1             0             0   \n",
              "2            0            0             1             0             0   \n",
              "3            1            0             0             0             1   \n",
              "4            0            0             1             0             0   \n",
              "\n",
              "   Year_2013  Year_2014  Year_2015  \n",
              "0          0          0          1  \n",
              "1          0          0          1  \n",
              "2          0          0          1  \n",
              "3          0          0          1  \n",
              "4          0          0          1  "
            ],
            "text/html": [
              "\n",
              "  <div id=\"df-09b198ff-057b-4c51-9f3c-9b30b339bdd0\">\n",
              "    <div class=\"colab-df-container\">\n",
              "      <div>\n",
              "<style scoped>\n",
              "    .dataframe tbody tr th:only-of-type {\n",
              "        vertical-align: middle;\n",
              "    }\n",
              "\n",
              "    .dataframe tbody tr th {\n",
              "        vertical-align: top;\n",
              "    }\n",
              "\n",
              "    .dataframe thead th {\n",
              "        text-align: right;\n",
              "    }\n",
              "</style>\n",
              "<table border=\"1\" class=\"dataframe\">\n",
              "  <thead>\n",
              "    <tr style=\"text-align: right;\">\n",
              "      <th></th>\n",
              "      <th>DayOfWeek</th>\n",
              "      <th>Sales</th>\n",
              "      <th>Customers</th>\n",
              "      <th>Open</th>\n",
              "      <th>Promo</th>\n",
              "      <th>StateHoliday</th>\n",
              "      <th>SchoolHoliday</th>\n",
              "      <th>Month</th>\n",
              "      <th>Day</th>\n",
              "      <th>CompetitionDistance</th>\n",
              "      <th>Promo2</th>\n",
              "      <th>StoreType_a</th>\n",
              "      <th>StoreType_b</th>\n",
              "      <th>StoreType_c</th>\n",
              "      <th>StoreType_d</th>\n",
              "      <th>Assortment_a</th>\n",
              "      <th>Assortment_b</th>\n",
              "      <th>Assortment_c</th>\n",
              "      <th>Year_2013</th>\n",
              "      <th>Year_2014</th>\n",
              "      <th>Year_2015</th>\n",
              "    </tr>\n",
              "  </thead>\n",
              "  <tbody>\n",
              "    <tr>\n",
              "      <th>0</th>\n",
              "      <td>5</td>\n",
              "      <td>5263</td>\n",
              "      <td>555</td>\n",
              "      <td>1</td>\n",
              "      <td>1</td>\n",
              "      <td>0</td>\n",
              "      <td>1</td>\n",
              "      <td>7</td>\n",
              "      <td>31</td>\n",
              "      <td>1270.0</td>\n",
              "      <td>0</td>\n",
              "      <td>0</td>\n",
              "      <td>0</td>\n",
              "      <td>1</td>\n",
              "      <td>0</td>\n",
              "      <td>1</td>\n",
              "      <td>0</td>\n",
              "      <td>0</td>\n",
              "      <td>0</td>\n",
              "      <td>0</td>\n",
              "      <td>1</td>\n",
              "    </tr>\n",
              "    <tr>\n",
              "      <th>1</th>\n",
              "      <td>5</td>\n",
              "      <td>6064</td>\n",
              "      <td>625</td>\n",
              "      <td>1</td>\n",
              "      <td>1</td>\n",
              "      <td>0</td>\n",
              "      <td>1</td>\n",
              "      <td>7</td>\n",
              "      <td>31</td>\n",
              "      <td>570.0</td>\n",
              "      <td>1</td>\n",
              "      <td>1</td>\n",
              "      <td>0</td>\n",
              "      <td>0</td>\n",
              "      <td>0</td>\n",
              "      <td>1</td>\n",
              "      <td>0</td>\n",
              "      <td>0</td>\n",
              "      <td>0</td>\n",
              "      <td>0</td>\n",
              "      <td>1</td>\n",
              "    </tr>\n",
              "    <tr>\n",
              "      <th>2</th>\n",
              "      <td>5</td>\n",
              "      <td>8314</td>\n",
              "      <td>821</td>\n",
              "      <td>1</td>\n",
              "      <td>1</td>\n",
              "      <td>0</td>\n",
              "      <td>1</td>\n",
              "      <td>7</td>\n",
              "      <td>31</td>\n",
              "      <td>14130.0</td>\n",
              "      <td>1</td>\n",
              "      <td>1</td>\n",
              "      <td>0</td>\n",
              "      <td>0</td>\n",
              "      <td>0</td>\n",
              "      <td>1</td>\n",
              "      <td>0</td>\n",
              "      <td>0</td>\n",
              "      <td>0</td>\n",
              "      <td>0</td>\n",
              "      <td>1</td>\n",
              "    </tr>\n",
              "    <tr>\n",
              "      <th>3</th>\n",
              "      <td>5</td>\n",
              "      <td>13995</td>\n",
              "      <td>1498</td>\n",
              "      <td>1</td>\n",
              "      <td>1</td>\n",
              "      <td>0</td>\n",
              "      <td>1</td>\n",
              "      <td>7</td>\n",
              "      <td>31</td>\n",
              "      <td>620.0</td>\n",
              "      <td>0</td>\n",
              "      <td>0</td>\n",
              "      <td>0</td>\n",
              "      <td>1</td>\n",
              "      <td>0</td>\n",
              "      <td>0</td>\n",
              "      <td>0</td>\n",
              "      <td>1</td>\n",
              "      <td>0</td>\n",
              "      <td>0</td>\n",
              "      <td>1</td>\n",
              "    </tr>\n",
              "    <tr>\n",
              "      <th>4</th>\n",
              "      <td>5</td>\n",
              "      <td>4822</td>\n",
              "      <td>559</td>\n",
              "      <td>1</td>\n",
              "      <td>1</td>\n",
              "      <td>0</td>\n",
              "      <td>1</td>\n",
              "      <td>7</td>\n",
              "      <td>31</td>\n",
              "      <td>29910.0</td>\n",
              "      <td>0</td>\n",
              "      <td>1</td>\n",
              "      <td>0</td>\n",
              "      <td>0</td>\n",
              "      <td>0</td>\n",
              "      <td>1</td>\n",
              "      <td>0</td>\n",
              "      <td>0</td>\n",
              "      <td>0</td>\n",
              "      <td>0</td>\n",
              "      <td>1</td>\n",
              "    </tr>\n",
              "  </tbody>\n",
              "</table>\n",
              "</div>\n",
              "      <button class=\"colab-df-convert\" onclick=\"convertToInteractive('df-09b198ff-057b-4c51-9f3c-9b30b339bdd0')\"\n",
              "              title=\"Convert this dataframe to an interactive table.\"\n",
              "              style=\"display:none;\">\n",
              "        \n",
              "  <svg xmlns=\"http://www.w3.org/2000/svg\" height=\"24px\"viewBox=\"0 0 24 24\"\n",
              "       width=\"24px\">\n",
              "    <path d=\"M0 0h24v24H0V0z\" fill=\"none\"/>\n",
              "    <path d=\"M18.56 5.44l.94 2.06.94-2.06 2.06-.94-2.06-.94-.94-2.06-.94 2.06-2.06.94zm-11 1L8.5 8.5l.94-2.06 2.06-.94-2.06-.94L8.5 2.5l-.94 2.06-2.06.94zm10 10l.94 2.06.94-2.06 2.06-.94-2.06-.94-.94-2.06-.94 2.06-2.06.94z\"/><path d=\"M17.41 7.96l-1.37-1.37c-.4-.4-.92-.59-1.43-.59-.52 0-1.04.2-1.43.59L10.3 9.45l-7.72 7.72c-.78.78-.78 2.05 0 2.83L4 21.41c.39.39.9.59 1.41.59.51 0 1.02-.2 1.41-.59l7.78-7.78 2.81-2.81c.8-.78.8-2.07 0-2.86zM5.41 20L4 18.59l7.72-7.72 1.47 1.35L5.41 20z\"/>\n",
              "  </svg>\n",
              "      </button>\n",
              "      \n",
              "  <style>\n",
              "    .colab-df-container {\n",
              "      display:flex;\n",
              "      flex-wrap:wrap;\n",
              "      gap: 12px;\n",
              "    }\n",
              "\n",
              "    .colab-df-convert {\n",
              "      background-color: #E8F0FE;\n",
              "      border: none;\n",
              "      border-radius: 50%;\n",
              "      cursor: pointer;\n",
              "      display: none;\n",
              "      fill: #1967D2;\n",
              "      height: 32px;\n",
              "      padding: 0 0 0 0;\n",
              "      width: 32px;\n",
              "    }\n",
              "\n",
              "    .colab-df-convert:hover {\n",
              "      background-color: #E2EBFA;\n",
              "      box-shadow: 0px 1px 2px rgba(60, 64, 67, 0.3), 0px 1px 3px 1px rgba(60, 64, 67, 0.15);\n",
              "      fill: #174EA6;\n",
              "    }\n",
              "\n",
              "    [theme=dark] .colab-df-convert {\n",
              "      background-color: #3B4455;\n",
              "      fill: #D2E3FC;\n",
              "    }\n",
              "\n",
              "    [theme=dark] .colab-df-convert:hover {\n",
              "      background-color: #434B5C;\n",
              "      box-shadow: 0px 1px 3px 1px rgba(0, 0, 0, 0.15);\n",
              "      filter: drop-shadow(0px 1px 2px rgba(0, 0, 0, 0.3));\n",
              "      fill: #FFFFFF;\n",
              "    }\n",
              "  </style>\n",
              "\n",
              "      <script>\n",
              "        const buttonEl =\n",
              "          document.querySelector('#df-09b198ff-057b-4c51-9f3c-9b30b339bdd0 button.colab-df-convert');\n",
              "        buttonEl.style.display =\n",
              "          google.colab.kernel.accessAllowed ? 'block' : 'none';\n",
              "\n",
              "        async function convertToInteractive(key) {\n",
              "          const element = document.querySelector('#df-09b198ff-057b-4c51-9f3c-9b30b339bdd0');\n",
              "          const dataTable =\n",
              "            await google.colab.kernel.invokeFunction('convertToInteractive',\n",
              "                                                     [key], {});\n",
              "          if (!dataTable) return;\n",
              "\n",
              "          const docLinkHtml = 'Like what you see? Visit the ' +\n",
              "            '<a target=\"_blank\" href=https://colab.research.google.com/notebooks/data_table.ipynb>data table notebook</a>'\n",
              "            + ' to learn more about interactive tables.';\n",
              "          element.innerHTML = '';\n",
              "          dataTable['output_type'] = 'display_data';\n",
              "          await google.colab.output.renderOutput(dataTable, element);\n",
              "          const docLink = document.createElement('div');\n",
              "          docLink.innerHTML = docLinkHtml;\n",
              "          element.appendChild(docLink);\n",
              "        }\n",
              "      </script>\n",
              "    </div>\n",
              "  </div>\n",
              "  "
            ]
          },
          "metadata": {},
          "execution_count": 47
        }
      ]
    },
    {
      "cell_type": "code",
      "source": [
        "# Storing the target variable aside.\n",
        "dependent_variable = 'Sales'"
      ],
      "metadata": {
        "id": "YcxYnnq9JjB7"
      },
      "execution_count": 48,
      "outputs": []
    },
    {
      "cell_type": "code",
      "source": [
        "# Storing the independent variables.\n",
        "independent_variables = list(set(dataset.columns.tolist()) - {dependent_variable})"
      ],
      "metadata": {
        "id": "t2wRX9OEJvCe"
      },
      "execution_count": 49,
      "outputs": []
    },
    {
      "cell_type": "code",
      "source": [
        "independent_variables"
      ],
      "metadata": {
        "colab": {
          "base_uri": "https://localhost:8080/"
        },
        "id": "Y6IAgrORJzNc",
        "outputId": "3041b235-8251-43d9-8086-8ca1aff93f32"
      },
      "execution_count": 50,
      "outputs": [
        {
          "output_type": "execute_result",
          "data": {
            "text/plain": [
              "['DayOfWeek',\n",
              " 'Assortment_c',\n",
              " 'Year_2013',\n",
              " 'Promo',\n",
              " 'Month',\n",
              " 'Open',\n",
              " 'Promo2',\n",
              " 'Assortment_a',\n",
              " 'StoreType_a',\n",
              " 'Year_2014',\n",
              " 'Customers',\n",
              " 'SchoolHoliday',\n",
              " 'CompetitionDistance',\n",
              " 'StoreType_b',\n",
              " 'StateHoliday',\n",
              " 'Day',\n",
              " 'StoreType_d',\n",
              " 'Year_2015',\n",
              " 'StoreType_c',\n",
              " 'Assortment_b']"
            ]
          },
          "metadata": {},
          "execution_count": 50
        }
      ]
    },
    {
      "cell_type": "code",
      "source": [
        "# Create the data of independent variables\n",
        "X = dataset[independent_variables].values\n",
        "\n",
        "# Create the dependent variable data\n",
        "y = dataset[dependent_variable].values"
      ],
      "metadata": {
        "id": "ISoNHsqZJ1nQ"
      },
      "execution_count": 51,
      "outputs": []
    },
    {
      "cell_type": "code",
      "source": [
        "dataset[independent_variables]"
      ],
      "metadata": {
        "colab": {
          "base_uri": "https://localhost:8080/",
          "height": 487
        },
        "id": "FIk2F49yJ4mQ",
        "outputId": "1e98a837-bedb-4273-f92f-620f13ad2904"
      },
      "execution_count": 52,
      "outputs": [
        {
          "output_type": "execute_result",
          "data": {
            "text/plain": [
              "         DayOfWeek  Assortment_c  Year_2013  Promo  Month  Open  Promo2  \\\n",
              "0                5             0          0      1      7     1       0   \n",
              "1                5             0          0      1      7     1       1   \n",
              "2                5             0          0      1      7     1       1   \n",
              "3                5             1          0      1      7     1       0   \n",
              "4                5             0          0      1      7     1       0   \n",
              "...            ...           ...        ...    ...    ...   ...     ...   \n",
              "1016776          2             0          1      0      1     1       0   \n",
              "1016827          2             0          1      0      1     1       0   \n",
              "1016863          2             0          1      0      1     1       1   \n",
              "1017042          2             0          1      0      1     1       0   \n",
              "1017190          2             0          1      0      1     1       0   \n",
              "\n",
              "         Assortment_a  StoreType_a  Year_2014  Customers  SchoolHoliday  \\\n",
              "0                   1            0          0        555              1   \n",
              "1                   1            1          0        625              1   \n",
              "2                   1            1          0        821              1   \n",
              "3                   0            0          0       1498              1   \n",
              "4                   1            1          0        559              1   \n",
              "...               ...          ...        ...        ...            ...   \n",
              "1016776             1            0          0        566              1   \n",
              "1016827             0            0          0       2377              1   \n",
              "1016863             0            0          0       1248              1   \n",
              "1017042             0            0          0       1039              1   \n",
              "1017190             0            0          0       1405              1   \n",
              "\n",
              "         CompetitionDistance  StoreType_b  StateHoliday  Day  StoreType_d  \\\n",
              "0                     1270.0            0             0   31            0   \n",
              "1                      570.0            0             0   31            0   \n",
              "2                    14130.0            0             0   31            0   \n",
              "3                      620.0            0             0   31            0   \n",
              "4                    29910.0            0             0   31            0   \n",
              "...                      ...          ...           ...  ...          ...   \n",
              "1016776                150.0            1             1    1            0   \n",
              "1016827                860.0            1             1    1            0   \n",
              "1016863                840.0            1             1    1            0   \n",
              "1017042               1430.0            1             1    1            0   \n",
              "1017190                720.0            1             1    1            0   \n",
              "\n",
              "         Year_2015  StoreType_c  Assortment_b  \n",
              "0                1            1             0  \n",
              "1                1            0             0  \n",
              "2                1            0             0  \n",
              "3                1            1             0  \n",
              "4                1            0             0  \n",
              "...            ...          ...           ...  \n",
              "1016776          0            0             0  \n",
              "1016827          0            0             1  \n",
              "1016863          0            0             1  \n",
              "1017042          0            0             1  \n",
              "1017190          0            0             1  \n",
              "\n",
              "[844338 rows x 20 columns]"
            ],
            "text/html": [
              "\n",
              "  <div id=\"df-28f34156-5e6e-4aac-ab3a-96745af409da\">\n",
              "    <div class=\"colab-df-container\">\n",
              "      <div>\n",
              "<style scoped>\n",
              "    .dataframe tbody tr th:only-of-type {\n",
              "        vertical-align: middle;\n",
              "    }\n",
              "\n",
              "    .dataframe tbody tr th {\n",
              "        vertical-align: top;\n",
              "    }\n",
              "\n",
              "    .dataframe thead th {\n",
              "        text-align: right;\n",
              "    }\n",
              "</style>\n",
              "<table border=\"1\" class=\"dataframe\">\n",
              "  <thead>\n",
              "    <tr style=\"text-align: right;\">\n",
              "      <th></th>\n",
              "      <th>DayOfWeek</th>\n",
              "      <th>Assortment_c</th>\n",
              "      <th>Year_2013</th>\n",
              "      <th>Promo</th>\n",
              "      <th>Month</th>\n",
              "      <th>Open</th>\n",
              "      <th>Promo2</th>\n",
              "      <th>Assortment_a</th>\n",
              "      <th>StoreType_a</th>\n",
              "      <th>Year_2014</th>\n",
              "      <th>Customers</th>\n",
              "      <th>SchoolHoliday</th>\n",
              "      <th>CompetitionDistance</th>\n",
              "      <th>StoreType_b</th>\n",
              "      <th>StateHoliday</th>\n",
              "      <th>Day</th>\n",
              "      <th>StoreType_d</th>\n",
              "      <th>Year_2015</th>\n",
              "      <th>StoreType_c</th>\n",
              "      <th>Assortment_b</th>\n",
              "    </tr>\n",
              "  </thead>\n",
              "  <tbody>\n",
              "    <tr>\n",
              "      <th>0</th>\n",
              "      <td>5</td>\n",
              "      <td>0</td>\n",
              "      <td>0</td>\n",
              "      <td>1</td>\n",
              "      <td>7</td>\n",
              "      <td>1</td>\n",
              "      <td>0</td>\n",
              "      <td>1</td>\n",
              "      <td>0</td>\n",
              "      <td>0</td>\n",
              "      <td>555</td>\n",
              "      <td>1</td>\n",
              "      <td>1270.0</td>\n",
              "      <td>0</td>\n",
              "      <td>0</td>\n",
              "      <td>31</td>\n",
              "      <td>0</td>\n",
              "      <td>1</td>\n",
              "      <td>1</td>\n",
              "      <td>0</td>\n",
              "    </tr>\n",
              "    <tr>\n",
              "      <th>1</th>\n",
              "      <td>5</td>\n",
              "      <td>0</td>\n",
              "      <td>0</td>\n",
              "      <td>1</td>\n",
              "      <td>7</td>\n",
              "      <td>1</td>\n",
              "      <td>1</td>\n",
              "      <td>1</td>\n",
              "      <td>1</td>\n",
              "      <td>0</td>\n",
              "      <td>625</td>\n",
              "      <td>1</td>\n",
              "      <td>570.0</td>\n",
              "      <td>0</td>\n",
              "      <td>0</td>\n",
              "      <td>31</td>\n",
              "      <td>0</td>\n",
              "      <td>1</td>\n",
              "      <td>0</td>\n",
              "      <td>0</td>\n",
              "    </tr>\n",
              "    <tr>\n",
              "      <th>2</th>\n",
              "      <td>5</td>\n",
              "      <td>0</td>\n",
              "      <td>0</td>\n",
              "      <td>1</td>\n",
              "      <td>7</td>\n",
              "      <td>1</td>\n",
              "      <td>1</td>\n",
              "      <td>1</td>\n",
              "      <td>1</td>\n",
              "      <td>0</td>\n",
              "      <td>821</td>\n",
              "      <td>1</td>\n",
              "      <td>14130.0</td>\n",
              "      <td>0</td>\n",
              "      <td>0</td>\n",
              "      <td>31</td>\n",
              "      <td>0</td>\n",
              "      <td>1</td>\n",
              "      <td>0</td>\n",
              "      <td>0</td>\n",
              "    </tr>\n",
              "    <tr>\n",
              "      <th>3</th>\n",
              "      <td>5</td>\n",
              "      <td>1</td>\n",
              "      <td>0</td>\n",
              "      <td>1</td>\n",
              "      <td>7</td>\n",
              "      <td>1</td>\n",
              "      <td>0</td>\n",
              "      <td>0</td>\n",
              "      <td>0</td>\n",
              "      <td>0</td>\n",
              "      <td>1498</td>\n",
              "      <td>1</td>\n",
              "      <td>620.0</td>\n",
              "      <td>0</td>\n",
              "      <td>0</td>\n",
              "      <td>31</td>\n",
              "      <td>0</td>\n",
              "      <td>1</td>\n",
              "      <td>1</td>\n",
              "      <td>0</td>\n",
              "    </tr>\n",
              "    <tr>\n",
              "      <th>4</th>\n",
              "      <td>5</td>\n",
              "      <td>0</td>\n",
              "      <td>0</td>\n",
              "      <td>1</td>\n",
              "      <td>7</td>\n",
              "      <td>1</td>\n",
              "      <td>0</td>\n",
              "      <td>1</td>\n",
              "      <td>1</td>\n",
              "      <td>0</td>\n",
              "      <td>559</td>\n",
              "      <td>1</td>\n",
              "      <td>29910.0</td>\n",
              "      <td>0</td>\n",
              "      <td>0</td>\n",
              "      <td>31</td>\n",
              "      <td>0</td>\n",
              "      <td>1</td>\n",
              "      <td>0</td>\n",
              "      <td>0</td>\n",
              "    </tr>\n",
              "    <tr>\n",
              "      <th>...</th>\n",
              "      <td>...</td>\n",
              "      <td>...</td>\n",
              "      <td>...</td>\n",
              "      <td>...</td>\n",
              "      <td>...</td>\n",
              "      <td>...</td>\n",
              "      <td>...</td>\n",
              "      <td>...</td>\n",
              "      <td>...</td>\n",
              "      <td>...</td>\n",
              "      <td>...</td>\n",
              "      <td>...</td>\n",
              "      <td>...</td>\n",
              "      <td>...</td>\n",
              "      <td>...</td>\n",
              "      <td>...</td>\n",
              "      <td>...</td>\n",
              "      <td>...</td>\n",
              "      <td>...</td>\n",
              "      <td>...</td>\n",
              "    </tr>\n",
              "    <tr>\n",
              "      <th>1016776</th>\n",
              "      <td>2</td>\n",
              "      <td>0</td>\n",
              "      <td>1</td>\n",
              "      <td>0</td>\n",
              "      <td>1</td>\n",
              "      <td>1</td>\n",
              "      <td>0</td>\n",
              "      <td>1</td>\n",
              "      <td>0</td>\n",
              "      <td>0</td>\n",
              "      <td>566</td>\n",
              "      <td>1</td>\n",
              "      <td>150.0</td>\n",
              "      <td>1</td>\n",
              "      <td>1</td>\n",
              "      <td>1</td>\n",
              "      <td>0</td>\n",
              "      <td>0</td>\n",
              "      <td>0</td>\n",
              "      <td>0</td>\n",
              "    </tr>\n",
              "    <tr>\n",
              "      <th>1016827</th>\n",
              "      <td>2</td>\n",
              "      <td>0</td>\n",
              "      <td>1</td>\n",
              "      <td>0</td>\n",
              "      <td>1</td>\n",
              "      <td>1</td>\n",
              "      <td>0</td>\n",
              "      <td>0</td>\n",
              "      <td>0</td>\n",
              "      <td>0</td>\n",
              "      <td>2377</td>\n",
              "      <td>1</td>\n",
              "      <td>860.0</td>\n",
              "      <td>1</td>\n",
              "      <td>1</td>\n",
              "      <td>1</td>\n",
              "      <td>0</td>\n",
              "      <td>0</td>\n",
              "      <td>0</td>\n",
              "      <td>1</td>\n",
              "    </tr>\n",
              "    <tr>\n",
              "      <th>1016863</th>\n",
              "      <td>2</td>\n",
              "      <td>0</td>\n",
              "      <td>1</td>\n",
              "      <td>0</td>\n",
              "      <td>1</td>\n",
              "      <td>1</td>\n",
              "      <td>1</td>\n",
              "      <td>0</td>\n",
              "      <td>0</td>\n",
              "      <td>0</td>\n",
              "      <td>1248</td>\n",
              "      <td>1</td>\n",
              "      <td>840.0</td>\n",
              "      <td>1</td>\n",
              "      <td>1</td>\n",
              "      <td>1</td>\n",
              "      <td>0</td>\n",
              "      <td>0</td>\n",
              "      <td>0</td>\n",
              "      <td>1</td>\n",
              "    </tr>\n",
              "    <tr>\n",
              "      <th>1017042</th>\n",
              "      <td>2</td>\n",
              "      <td>0</td>\n",
              "      <td>1</td>\n",
              "      <td>0</td>\n",
              "      <td>1</td>\n",
              "      <td>1</td>\n",
              "      <td>0</td>\n",
              "      <td>0</td>\n",
              "      <td>0</td>\n",
              "      <td>0</td>\n",
              "      <td>1039</td>\n",
              "      <td>1</td>\n",
              "      <td>1430.0</td>\n",
              "      <td>1</td>\n",
              "      <td>1</td>\n",
              "      <td>1</td>\n",
              "      <td>0</td>\n",
              "      <td>0</td>\n",
              "      <td>0</td>\n",
              "      <td>1</td>\n",
              "    </tr>\n",
              "    <tr>\n",
              "      <th>1017190</th>\n",
              "      <td>2</td>\n",
              "      <td>0</td>\n",
              "      <td>1</td>\n",
              "      <td>0</td>\n",
              "      <td>1</td>\n",
              "      <td>1</td>\n",
              "      <td>0</td>\n",
              "      <td>0</td>\n",
              "      <td>0</td>\n",
              "      <td>0</td>\n",
              "      <td>1405</td>\n",
              "      <td>1</td>\n",
              "      <td>720.0</td>\n",
              "      <td>1</td>\n",
              "      <td>1</td>\n",
              "      <td>1</td>\n",
              "      <td>0</td>\n",
              "      <td>0</td>\n",
              "      <td>0</td>\n",
              "      <td>1</td>\n",
              "    </tr>\n",
              "  </tbody>\n",
              "</table>\n",
              "<p>844338 rows × 20 columns</p>\n",
              "</div>\n",
              "      <button class=\"colab-df-convert\" onclick=\"convertToInteractive('df-28f34156-5e6e-4aac-ab3a-96745af409da')\"\n",
              "              title=\"Convert this dataframe to an interactive table.\"\n",
              "              style=\"display:none;\">\n",
              "        \n",
              "  <svg xmlns=\"http://www.w3.org/2000/svg\" height=\"24px\"viewBox=\"0 0 24 24\"\n",
              "       width=\"24px\">\n",
              "    <path d=\"M0 0h24v24H0V0z\" fill=\"none\"/>\n",
              "    <path d=\"M18.56 5.44l.94 2.06.94-2.06 2.06-.94-2.06-.94-.94-2.06-.94 2.06-2.06.94zm-11 1L8.5 8.5l.94-2.06 2.06-.94-2.06-.94L8.5 2.5l-.94 2.06-2.06.94zm10 10l.94 2.06.94-2.06 2.06-.94-2.06-.94-.94-2.06-.94 2.06-2.06.94z\"/><path d=\"M17.41 7.96l-1.37-1.37c-.4-.4-.92-.59-1.43-.59-.52 0-1.04.2-1.43.59L10.3 9.45l-7.72 7.72c-.78.78-.78 2.05 0 2.83L4 21.41c.39.39.9.59 1.41.59.51 0 1.02-.2 1.41-.59l7.78-7.78 2.81-2.81c.8-.78.8-2.07 0-2.86zM5.41 20L4 18.59l7.72-7.72 1.47 1.35L5.41 20z\"/>\n",
              "  </svg>\n",
              "      </button>\n",
              "      \n",
              "  <style>\n",
              "    .colab-df-container {\n",
              "      display:flex;\n",
              "      flex-wrap:wrap;\n",
              "      gap: 12px;\n",
              "    }\n",
              "\n",
              "    .colab-df-convert {\n",
              "      background-color: #E8F0FE;\n",
              "      border: none;\n",
              "      border-radius: 50%;\n",
              "      cursor: pointer;\n",
              "      display: none;\n",
              "      fill: #1967D2;\n",
              "      height: 32px;\n",
              "      padding: 0 0 0 0;\n",
              "      width: 32px;\n",
              "    }\n",
              "\n",
              "    .colab-df-convert:hover {\n",
              "      background-color: #E2EBFA;\n",
              "      box-shadow: 0px 1px 2px rgba(60, 64, 67, 0.3), 0px 1px 3px 1px rgba(60, 64, 67, 0.15);\n",
              "      fill: #174EA6;\n",
              "    }\n",
              "\n",
              "    [theme=dark] .colab-df-convert {\n",
              "      background-color: #3B4455;\n",
              "      fill: #D2E3FC;\n",
              "    }\n",
              "\n",
              "    [theme=dark] .colab-df-convert:hover {\n",
              "      background-color: #434B5C;\n",
              "      box-shadow: 0px 1px 3px 1px rgba(0, 0, 0, 0.15);\n",
              "      filter: drop-shadow(0px 1px 2px rgba(0, 0, 0, 0.3));\n",
              "      fill: #FFFFFF;\n",
              "    }\n",
              "  </style>\n",
              "\n",
              "      <script>\n",
              "        const buttonEl =\n",
              "          document.querySelector('#df-28f34156-5e6e-4aac-ab3a-96745af409da button.colab-df-convert');\n",
              "        buttonEl.style.display =\n",
              "          google.colab.kernel.accessAllowed ? 'block' : 'none';\n",
              "\n",
              "        async function convertToInteractive(key) {\n",
              "          const element = document.querySelector('#df-28f34156-5e6e-4aac-ab3a-96745af409da');\n",
              "          const dataTable =\n",
              "            await google.colab.kernel.invokeFunction('convertToInteractive',\n",
              "                                                     [key], {});\n",
              "          if (!dataTable) return;\n",
              "\n",
              "          const docLinkHtml = 'Like what you see? Visit the ' +\n",
              "            '<a target=\"_blank\" href=https://colab.research.google.com/notebooks/data_table.ipynb>data table notebook</a>'\n",
              "            + ' to learn more about interactive tables.';\n",
              "          element.innerHTML = '';\n",
              "          dataTable['output_type'] = 'display_data';\n",
              "          await google.colab.output.renderOutput(dataTable, element);\n",
              "          const docLink = document.createElement('div');\n",
              "          docLink.innerHTML = docLinkHtml;\n",
              "          element.appendChild(docLink);\n",
              "        }\n",
              "      </script>\n",
              "    </div>\n",
              "  </div>\n",
              "  "
            ]
          },
          "metadata": {},
          "execution_count": 52
        }
      ]
    },
    {
      "cell_type": "code",
      "source": [
        "# Splitting the dataset into the Training set and Test set\n",
        "X_train, X_test, y_train, y_test = train_test_split(X, y, test_size = 0.2, random_state = 0)"
      ],
      "metadata": {
        "id": "s6_3npcWJ6hI"
      },
      "execution_count": 53,
      "outputs": []
    },
    {
      "cell_type": "code",
      "source": [
        "# Transforming data\n",
        "scaler = MinMaxScaler()\n",
        "X_train = scaler.fit_transform(X_train)\n",
        "X_test = scaler.transform(X_test)"
      ],
      "metadata": {
        "id": "OiuxRDhILfO9"
      },
      "execution_count": 54,
      "outputs": []
    },
    {
      "cell_type": "code",
      "source": [
        "# Creating a function for calculation of Mean Absolute Percenage Error.\n",
        "def MAPE(Y_actual,Y_Predicted):\n",
        "    mape = np.mean(np.abs((Y_actual - Y_Predicted)/Y_actual))*100\n",
        "    return mape"
      ],
      "metadata": {
        "id": "ROKQEstj2U1_"
      },
      "execution_count": 55,
      "outputs": []
    },
    {
      "cell_type": "code",
      "source": [
        "# Building a performance calculator to make the code more modular.\n",
        "# This function will calculate the performance mertics and list them along with the model score.\n",
        "def Performance(fitname):\n",
        "  # Model Score\n",
        "  print(\"Model Score\",fitname.score(X_train, y_train))\n",
        "  print(\"Test Model Score\",fitname.score(X_test,y_test))\n",
        "\n",
        "  # Training prediction\n",
        "  y_pred_train= fitname.predict(X_train)\n",
        "\n",
        "  # Predicting the Test set results\n",
        "  y_pred = fitname.predict(X_test)\n",
        "\n",
        "\n",
        "  # Performance testing with Train and Test Data:\n",
        "  # MSE\n",
        "  print(\"Train Performance MSE\",mean_squared_error(y_train, y_pred_train))\n",
        "  print(\"Test Performance MSE\",mean_squared_error(y_test, y_pred))\n",
        "\n",
        "  #RMSE\n",
        "  print(\"Train Performance RMSE\",math.sqrt(mean_squared_error(y_train, y_pred_train)))\n",
        "  print(\"Test Performance RMSE\",math.sqrt(mean_squared_error(y_test, y_pred)))\n",
        "\n",
        "  #MAPE\n",
        "  print(\"Train Performance MAPE\", MAPE(y_train,y_pred_train))\n",
        "  print(\"Test Performance MAPE\", MAPE(y_test,y_pred))"
      ],
      "metadata": {
        "id": "72TtAC4jHFUa"
      },
      "execution_count": 89,
      "outputs": []
    },
    {
      "cell_type": "markdown",
      "source": [
        "# Linear Regression"
      ],
      "metadata": {
        "id": "Db696auS4jEZ"
      }
    },
    {
      "cell_type": "code",
      "source": [
        "# Fitting Multiple Linear Regression to the Training set\n",
        "regressor = LinearRegression()\n",
        "regressor.fit(X_train, y_train)\n",
        "Performance(regressor)"
      ],
      "metadata": {
        "id": "j0BHLZcgOIDP",
        "colab": {
          "base_uri": "https://localhost:8080/"
        },
        "outputId": "d8bac8da-0115-48de-8ac2-acdfef6eff8b"
      },
      "execution_count": 92,
      "outputs": [
        {
          "output_type": "stream",
          "name": "stdout",
          "text": [
            "Model Score 0.8257783272429787\n",
            "Test Model Score 0.8235791850630394\n",
            "Train Performance MSE 1677142.1399662457\n",
            "Test Performance MSE 1704638.7764407704\n",
            "Train Performance RMSE 1295.0452269964342\n",
            "Test Performance RMSE 1305.6181587435012\n",
            "Train Performance MAPE 14.438217298249494\n",
            "Test Performance MAPE 14.45854165325981\n"
          ]
        }
      ]
    },
    {
      "cell_type": "markdown",
      "source": [
        "# Lasso Regression"
      ],
      "metadata": {
        "id": "Vew3c43J4nKJ"
      }
    },
    {
      "cell_type": "code",
      "source": [
        "# Lasso Regression\n",
        "lasso  = Lasso(alpha=0.02 , fit_intercept=False, normalize=True)\n",
        "lasso.fit(X_train, y_train)\n",
        "Performance(lasso)"
      ],
      "metadata": {
        "id": "k6-rjgv9_2ev",
        "colab": {
          "base_uri": "https://localhost:8080/"
        },
        "outputId": "2b9d75de-5cc1-4763-a748-7c944498c8b0"
      },
      "execution_count": 93,
      "outputs": [
        {
          "output_type": "stream",
          "name": "stdout",
          "text": [
            "Model Score 0.8257868370616624\n",
            "Test Model Score 0.823596798869152\n",
            "Train Performance MSE 1677060.2203331024\n",
            "Test Performance MSE 1704468.5857696128\n",
            "Train Performance RMSE 1295.013598512812\n",
            "Test Performance RMSE 1305.5529808359418\n",
            "Train Performance MAPE 14.433368302321679\n",
            "Test Performance MAPE 14.45343876022594\n"
          ]
        }
      ]
    },
    {
      "cell_type": "code",
      "source": [
        "# Tried a different alpha value of 0.1\n",
        "lasso  = Lasso(alpha=0.03 , fit_intercept=False, normalize=True)\n",
        "lasso.fit(X_train, y_train)\n",
        "Performance(lasso)"
      ],
      "metadata": {
        "id": "fqNySZjpJG-E",
        "colab": {
          "base_uri": "https://localhost:8080/"
        },
        "outputId": "55ac65d0-21a0-4982-a06d-8cbe4188cd64"
      },
      "execution_count": 95,
      "outputs": [
        {
          "output_type": "stream",
          "name": "stdout",
          "text": [
            "Model Score 0.82578675127039\n",
            "Test Model Score 0.8235969158320383\n",
            "Train Performance MSE 1677061.046201411\n",
            "Test Performance MSE 1704467.4556338554\n",
            "Train Performance RMSE 1295.0139173774971\n",
            "Test Performance RMSE 1305.5525480170668\n",
            "Train Performance MAPE 14.433466810812606\n",
            "Test Performance MAPE 14.453542150217297\n"
          ]
        }
      ]
    },
    {
      "cell_type": "markdown",
      "source": [
        "***The performance did not optimize much after the Hyperparameter tuning, but more the merrier. The testing errors tend to reduce a little but the training errors have increased in the same way.***\n",
        "\n",
        "**NOTE**- Here, we tried bunch of alpha values with minor differences, but kept the first and last one only."
      ],
      "metadata": {
        "id": "xtNUNTqJaA0e"
      }
    },
    {
      "cell_type": "markdown",
      "source": [
        "# Ridge Regression"
      ],
      "metadata": {
        "id": "80eAD9Pd4syY"
      }
    },
    {
      "cell_type": "code",
      "source": [
        "# Ridge Regression\n",
        "ridge = Ridge(alpha=0.1)\n",
        "ridreg=ridge.fit(X_train, y_train)\n",
        "Performance(ridge)"
      ],
      "metadata": {
        "id": "Ff6kgEX-8vyF",
        "colab": {
          "base_uri": "https://localhost:8080/"
        },
        "outputId": "8a41e4c4-066c-4a50-c500-370a075f1362"
      },
      "execution_count": 96,
      "outputs": [
        {
          "output_type": "stream",
          "name": "stdout",
          "text": [
            "Model Score 0.8257869046173363\n",
            "Test Model Score 0.8235967513004934\n",
            "Train Performance MSE 1677059.5700094905\n",
            "Test Performance MSE 1704469.045394403\n",
            "Train Performance RMSE 1295.0133474252266\n",
            "Test Performance RMSE 1305.5531568627923\n",
            "Train Performance MAPE 14.433330334020104\n",
            "Test Performance MAPE 14.453388864999198\n"
          ]
        }
      ]
    },
    {
      "cell_type": "code",
      "source": [
        "ridge = Ridge(alpha=0.08)\n",
        "ridreg=ridge.fit(X_train, y_train)\n",
        "Performance(ridge)"
      ],
      "metadata": {
        "colab": {
          "base_uri": "https://localhost:8080/"
        },
        "id": "6yW4uoVkbB1M",
        "outputId": "6334ec31-ae1b-406d-918e-395dcb90111e"
      },
      "execution_count": 98,
      "outputs": [
        {
          "output_type": "stream",
          "name": "stdout",
          "text": [
            "Model Score 0.8257869050051683\n",
            "Test Model Score 0.8235966914917424\n",
            "Train Performance MSE 1677059.5662760322\n",
            "Test Performance MSE 1704469.6232871888\n",
            "Train Performance RMSE 1295.0133459837518\n",
            "Test Performance RMSE 1305.5533781838217\n",
            "Train Performance MAPE 14.433299134621237\n",
            "Test Performance MAPE 14.453357910019719\n"
          ]
        }
      ]
    },
    {
      "cell_type": "markdown",
      "source": [
        "***Even here the performance does not change much with some simple tuning with the alpha values. Minor reduction in errors can be observed in the testing phase.***\n",
        "\n",
        "**NOTE**- Here, we tried bunch of alpha values with minor differences, but kept the first and last one only."
      ],
      "metadata": {
        "id": "MFTb1HAMbP8a"
      }
    },
    {
      "cell_type": "markdown",
      "source": [
        "# Decision Tree Regression Model"
      ],
      "metadata": {
        "id": "tP04Rhv74vvu"
      }
    },
    {
      "cell_type": "code",
      "source": [
        "# Decision Tree Regression\n",
        "tree_regressor = DecisionTreeRegressor(min_samples_leaf=20, random_state=0)\n",
        "trreg=tree_regressor.fit(X_train, y_train)\n",
        "Performance(trreg)"
      ],
      "metadata": {
        "id": "ZQXufZCg-iZ9",
        "colab": {
          "base_uri": "https://localhost:8080/"
        },
        "outputId": "aef6a8d0-accd-49f5-a68a-00b2e5051099"
      },
      "execution_count": 99,
      "outputs": [
        {
          "output_type": "stream",
          "name": "stdout",
          "text": [
            "Model Score 0.9532514254641122\n",
            "Test Model Score 0.9397726050707584\n",
            "Train Performance MSE 450024.4033750992\n",
            "Test Performance MSE 581937.867349057\n",
            "Train Performance RMSE 670.8385822052121\n",
            "Test Performance RMSE 762.8485218895406\n",
            "Train Performance MAPE 6.437950255802925\n",
            "Test Performance MAPE 7.243983480853995\n"
          ]
        }
      ]
    },
    {
      "cell_type": "markdown",
      "source": [
        "# **Selection of a Model:**\n",
        "\n",
        "# Linear Regression :\n",
        "**MODEL SCORE:  0.8257783272429787**\n",
        "\n",
        "Test Model Score 0.8235791850630394\n",
        "\n",
        "Train Performance MAPE 14.438217298249494\n",
        "\n",
        "Test Performance MAPE 14.45854165325981\n",
        "\n",
        "\n",
        "# Lasso Regression :\n",
        "**MODEL SCORE:  0.82578675127039**\n",
        "\n",
        "Test Model Score 0.8235969158320383\n",
        "\n",
        "Train Performance MAPE 14.433466810812606\n",
        "\n",
        "Test Performance MAPE 14.453542150217297\n",
        "\n",
        "# Ridge Regression :\n",
        "**MODEL SCORE:  0.8257869050051683**\n",
        "\n",
        "Test Model Score 0.8235966914917424\n",
        "\n",
        "Train Performance MAPE 14.433299134621237\n",
        "\n",
        "Test Performance MAPE 14.453357910019719\n",
        "\n",
        "# Decision Tree Regression :\n",
        "**MODEL SCORE:  0.9532514254641122**\n",
        "\n",
        "Test Model Score 0.9397726050707584\n",
        "\n",
        "Train Performance MAPE 6.437950255802925\n",
        "\n",
        "Test Performance MAPE 7.243983480853995\n",
        "\n",
        "\n",
        "# **Highest Scoring Model: Decision Tree Regression Model**\n",
        "**The highest scoring and best fitting model we found out is Decision Tree Regression model. The model scored 0.9532 in the training phase whereas the testing phase model score is 0.9397.**\n",
        "\n",
        "**Following are the error scores of the model with different evaluation metrics:**\n",
        "* Train Performance MSE 450024.4033750992\n",
        "* Test Performance MSE 581937.867349057\n",
        "* Train Performance RMSE 670.8385822052121\n",
        "* Test Performance RMSE 762.8485218895406\n",
        "* Train Performance MAPE 6.437950255802925\n",
        "* Test Performance MAPE 7.243983480853995"
      ],
      "metadata": {
        "id": "TsgdjTUQaneQ"
      }
    },
    {
      "cell_type": "code",
      "source": [
        "# Getting the feature importances.\n",
        "tree_regressor.feature_importances_"
      ],
      "metadata": {
        "colab": {
          "base_uri": "https://localhost:8080/"
        },
        "id": "XQpyDAn8kmr7",
        "outputId": "ebc25743-ac16-478a-a1a1-68d0e18c0118"
      },
      "execution_count": 108,
      "outputs": [
        {
          "output_type": "execute_result",
          "data": {
            "text/plain": [
              "array([1.01358979e-02, 3.19217446e-03, 6.77330053e-04, 3.65116284e-02,\n",
              "       3.66964002e-03, 0.00000000e+00, 8.02547384e-03, 2.75354085e-03,\n",
              "       2.17175292e-03, 1.22913128e-04, 7.74415215e-01, 1.49335559e-04,\n",
              "       8.18924980e-02, 6.62255918e-03, 1.01567170e-04, 2.03694671e-03,\n",
              "       4.53268773e-02, 7.31984806e-04, 1.72237681e-03, 1.97402879e-02])"
            ]
          },
          "metadata": {},
          "execution_count": 108
        }
      ]
    },
    {
      "cell_type": "code",
      "source": [
        "# Mapping the feature importance with their indices.\n",
        "feature_importance = pd.DataFrame({'Feature':independent_variables,\n",
        "                                   'Score':tree_regressor.feature_importances_}).sort_values(by='Score', ascending=False).reset_index(drop=True)"
      ],
      "metadata": {
        "id": "c_B6gtVLnHKB"
      },
      "execution_count": 120,
      "outputs": []
    },
    {
      "cell_type": "code",
      "source": [
        "# Plotting the calculated feature importances.\n",
        "fig, ax = plt.subplots(figsize=(15,8))\n",
        "ax = sns.barplot(x=feature_importance['Score'], y=feature_importance['Feature'])\n",
        "plt.show()"
      ],
      "metadata": {
        "colab": {
          "base_uri": "https://localhost:8080/",
          "height": 497
        },
        "id": "YiOOCuw3niMw",
        "outputId": "cf8d45f3-efae-4b24-e26c-2a81340555d9"
      },
      "execution_count": 122,
      "outputs": [
        {
          "output_type": "display_data",
          "data": {
            "text/plain": [
              "<Figure size 1080x576 with 1 Axes>"
            ],
            "image/png": "[encoded data removed]"
          },
          "metadata": {
            "needs_background": "light"
          }
        }
      ]
    },
    {
      "cell_type": "markdown",
      "source": [
        "**The above chart shows the most important features for this learning, along with their importance values ranging between 0 and 1.**"
      ],
      "metadata": {
        "id": "OJJYzIF9qwvh"
      }
    },
    {
      "cell_type": "markdown",
      "source": [
        "# **Key Findings:**\n",
        "\n",
        "\n",
        "We started the experiment by doing some basic data handling, manipulation and null value treatment where needed.\n",
        "The data came in two different sets. The first data set consisted of basic store details such as the sales, customers and other day to day data.\n",
        "The second dataset consisted of some more crucial data regarding the competetion, promotional offers, store types, assortment types etc.\n",
        "Combining both the datasets gave a more better understanding of the bigger picture. \n",
        "\n",
        "We checked for multi-colinearity in the dataset, but there were no significantly realted features.\n",
        "\n",
        "# **EDA Findings:**\n",
        "1.There are no significant customers going back from the stores, i.e. the customers coming in the store end up buying something.\n",
        "We see a fairly linear growth in terms of customers and sales.\n",
        "\n",
        "2.Promotions help in bringing in the customers, but it does not drive the sales as much. We saw two promotions where the first one increased the sales,\n",
        "whereas the other did'nt really help the sales.\n",
        "\n",
        "3.Majority of the stores are closed on Sundays. School Holidays, which also happen to be on the weekends drive the sales of the stores.\n",
        "We see an increase in the sales by the end of the week.\n",
        "\n",
        "4.There are 4 types of stores, with 3 different types of assortments. The basic stores and extended stores\n",
        " tend to maintain the no. of customers and sales over the period. Whereas the Extra stores, seem to gather a whole lot of sales and customer numbers but\n",
        "do not maintain consistency.\n",
        "\n",
        "# **Utility functions:**\n",
        "\n",
        "Further in the machine learning modules we examined the models based on some evaluation metrics, one of which was Mean Absolute Percentage Error.\n",
        "We ended up creating a function called **MAPE()** for the same.\n",
        "\n",
        "The second utility function that we created was to test the performance of the models we have used. I created a function called **Performance(model_fit)**\n",
        "This utility function takes in the model fit name that we used, and gives out certain metrics about the newly generated model.\n",
        "* Model Score \n",
        "* Test Model Score \n",
        "* Train Performance MSE \n",
        "* Test Performance MSE \n",
        "* Train Performance RMSE \n",
        "* Test Performance RMSE \n",
        "* Train Performance MAPE \n",
        "* Test Performance MAPE \n",
        "\n",
        "These are the metrics that the utility function calculates and presents as a report.\n",
        "\n",
        "\n",
        "# **Findings of ML models:**\n",
        "\n",
        "The target variable that we are focusing on is a continuous variable (Sales). Here, regression models would work best.\n",
        "We selected to work with four of the most finest regression models.\n",
        "* Linear Regression\n",
        "* Lasso Regression\n",
        "* Ridge Regression\n",
        "* Decision Tree Regressor\n",
        "\n",
        "After splitting the data into Train and Test datasets, we performed fitting of the above mentioned models, and these were the results-\n",
        "\n",
        "\n",
        "**Linear Regression :\n",
        "MODEL SCORE: 0.8257**\n",
        "\n",
        "Test Model Score 0.8235791850630394\n",
        "\n",
        "Train Performance MAPE 14.438217298249494\n",
        "\n",
        "Test Performance MAPE 14.45854165325981\n",
        "\n",
        "**Lasso Regression :\n",
        "MODEL SCORE: 0.8257**\n",
        "\n",
        "Test Model Score 0.8235969158320383\n",
        "\n",
        "Train Performance MAPE 14.433466810812606\n",
        "\n",
        "Test Performance MAPE 14.453542150217297\n",
        "\n",
        "**Ridge Regression :\n",
        "MODEL SCORE: 0.8257**\n",
        "\n",
        "Test Model Score 0.8235966914917424\n",
        "\n",
        "Train Performance MAPE 14.433299134621237\n",
        "\n",
        "Test Performance MAPE 14.453357910019719\n",
        "\n",
        "**Decision Tree Regression :\n",
        "MODEL SCORE: 0.9532**\n",
        "\n",
        "Test Model Score 0.9397726050707584\n",
        "\n",
        "Train Performance MAPE 6.437950255802925\n",
        "\n",
        "Test Performance MAPE 7.243983480853995\n",
        "\n",
        "**Decision Tree Regressor** turned out to be the best fitting model out of all we tested. Even after doing some Hyperparameter tuning with Lasso and Ridge regression\n",
        "models, we could not achieve this level of score with either.\n",
        "\n",
        "The top features that affect the sales are-\n",
        "* Customers\n",
        "* Competetion Distance\n",
        "* Promo\n",
        "* Store Type \n",
        "* Assortment Type\n",
        "* Day of Week\n",
        "\n",
        "\n",
        "\n"
      ],
      "metadata": {
        "id": "dM-jg5rBr-nQ"
      }
    }
  ]
}